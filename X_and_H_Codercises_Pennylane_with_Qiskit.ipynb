{
  "nbformat": 4,
  "nbformat_minor": 0,
  "metadata": {
    "colab": {
      "provenance": [],
      "authorship_tag": "ABX9TyP/HlD2fdnIThpTCsevziWS",
      "include_colab_link": true
    },
    "kernelspec": {
      "name": "python3",
      "display_name": "Python 3"
    },
    "language_info": {
      "name": "python"
    }
  },
  "cells": [
    {
      "cell_type": "markdown",
      "metadata": {
        "id": "view-in-github",
        "colab_type": "text"
      },
      "source": [
        "<a href=\"https://colab.research.google.com/github/vincimech010233/QuantumComputingJourney-/blob/main/X_and_H_Codercises_Pennylane_with_Qiskit.ipynb\" target=\"_parent\"><img src=\"https://colab.research.google.com/assets/colab-badge.svg\" alt=\"Open In Colab\"/></a>"
      ]
    },
    {
      "cell_type": "code",
      "execution_count": 1,
      "metadata": {
        "id": "yhU0Fb5CjFW_",
        "colab": {
          "base_uri": "https://localhost:8080/"
        },
        "collapsed": true,
        "outputId": "262e82ec-4ac8-4a31-e8c4-fbc6b81747aa"
      },
      "outputs": [
        {
          "output_type": "stream",
          "name": "stdout",
          "text": [
            "Requirement already satisfied: pennylane in /usr/local/lib/python3.10/dist-packages (0.36.0)\n",
            "Requirement already satisfied: qiskit in /usr/local/lib/python3.10/dist-packages (1.1.0)\n",
            "Requirement already satisfied: qiskit_aer in /usr/local/lib/python3.10/dist-packages (0.14.1)\n",
            "Requirement already satisfied: pylatexenc in /usr/local/lib/python3.10/dist-packages (2.10)\n",
            "Requirement already satisfied: numpy<2.0 in /usr/local/lib/python3.10/dist-packages (from pennylane) (1.25.2)\n",
            "Requirement already satisfied: scipy in /usr/local/lib/python3.10/dist-packages (from pennylane) (1.11.4)\n",
            "Requirement already satisfied: networkx in /usr/local/lib/python3.10/dist-packages (from pennylane) (3.3)\n",
            "Requirement already satisfied: rustworkx in /usr/local/lib/python3.10/dist-packages (from pennylane) (0.14.2)\n",
            "Requirement already satisfied: autograd in /usr/local/lib/python3.10/dist-packages (from pennylane) (1.6.2)\n",
            "Requirement already satisfied: toml in /usr/local/lib/python3.10/dist-packages (from pennylane) (0.10.2)\n",
            "Requirement already satisfied: appdirs in /usr/local/lib/python3.10/dist-packages (from pennylane) (1.4.4)\n",
            "Requirement already satisfied: semantic-version>=2.7 in /usr/local/lib/python3.10/dist-packages (from pennylane) (2.10.0)\n",
            "Requirement already satisfied: autoray>=0.6.1 in /usr/local/lib/python3.10/dist-packages (from pennylane) (0.6.12)\n",
            "Requirement already satisfied: cachetools in /usr/local/lib/python3.10/dist-packages (from pennylane) (5.3.3)\n",
            "Requirement already satisfied: pennylane-lightning>=0.36 in /usr/local/lib/python3.10/dist-packages (from pennylane) (0.36.0)\n",
            "Requirement already satisfied: requests in /usr/local/lib/python3.10/dist-packages (from pennylane) (2.31.0)\n",
            "Requirement already satisfied: typing-extensions in /usr/local/lib/python3.10/dist-packages (from pennylane) (4.11.0)\n",
            "Requirement already satisfied: sympy>=1.3 in /usr/local/lib/python3.10/dist-packages (from qiskit) (1.12)\n",
            "Requirement already satisfied: dill>=0.3 in /usr/local/lib/python3.10/dist-packages (from qiskit) (0.3.8)\n",
            "Requirement already satisfied: python-dateutil>=2.8.0 in /usr/local/lib/python3.10/dist-packages (from qiskit) (2.8.2)\n",
            "Requirement already satisfied: stevedore>=3.0.0 in /usr/local/lib/python3.10/dist-packages (from qiskit) (5.2.0)\n",
            "Requirement already satisfied: symengine>=0.11 in /usr/local/lib/python3.10/dist-packages (from qiskit) (0.11.0)\n",
            "Requirement already satisfied: psutil>=5 in /usr/local/lib/python3.10/dist-packages (from qiskit_aer) (5.9.5)\n",
            "Requirement already satisfied: six>=1.5 in /usr/local/lib/python3.10/dist-packages (from python-dateutil>=2.8.0->qiskit) (1.16.0)\n",
            "Requirement already satisfied: pbr!=2.1.0,>=2.0.0 in /usr/local/lib/python3.10/dist-packages (from stevedore>=3.0.0->qiskit) (6.0.0)\n",
            "Requirement already satisfied: mpmath>=0.19 in /usr/local/lib/python3.10/dist-packages (from sympy>=1.3->qiskit) (1.3.0)\n",
            "Requirement already satisfied: future>=0.15.2 in /usr/local/lib/python3.10/dist-packages (from autograd->pennylane) (0.18.3)\n",
            "Requirement already satisfied: charset-normalizer<4,>=2 in /usr/local/lib/python3.10/dist-packages (from requests->pennylane) (3.3.2)\n",
            "Requirement already satisfied: idna<4,>=2.5 in /usr/local/lib/python3.10/dist-packages (from requests->pennylane) (3.7)\n",
            "Requirement already satisfied: urllib3<3,>=1.21.1 in /usr/local/lib/python3.10/dist-packages (from requests->pennylane) (2.0.7)\n",
            "Requirement already satisfied: certifi>=2017.4.17 in /usr/local/lib/python3.10/dist-packages (from requests->pennylane) (2024.2.2)\n"
          ]
        }
      ],
      "source": [
        "!pip install pennylane qiskit qiskit_aer pylatexenc"
      ]
    },
    {
      "cell_type": "code",
      "source": [
        "from qiskit import QuantumCircuit, transpile\n",
        "from qiskit_aer import AerSimulator\n",
        "from qiskit.quantum_info import Operator\n",
        "import numpy as np\n",
        "\n",
        "U = np.array([[1, 1], [1, -1]]) / np.sqrt(2)\n",
        "\n",
        "def varied_initial_state_qiskit(state):\n",
        "    qc = QuantumCircuit(1)\n",
        "    if state == 1:\n",
        "        qc.x(0)\n",
        "    qc.unitary(Operator(U), [0])\n",
        "    qc.save_statevector()\n",
        "    return qc\n",
        "\n",
        "qc_0 = varied_initial_state_qiskit(0)\n",
        "backend = AerSimulator()\n",
        "tqc_0 = transpile(qc_0, backend)\n",
        "result_0 = backend.run(tqc_0).result()\n",
        "state_0 = result_0.get_statevector()\n",
        "print(\"Resultado para el estado inicial |0> en Qiskit:\", state_0)\n",
        "\n",
        "qc_1 = varied_initial_state_qiskit(1)\n",
        "tqc_1 = transpile(qc_1, backend)\n",
        "result_1 = backend.run(tqc_1).result()\n",
        "state_1 = result_1.get_statevector()\n",
        "print(\"Resultado para el estado inicial |1> en Qiskit:\", state_1)"
      ],
      "metadata": {
        "colab": {
          "base_uri": "https://localhost:8080/"
        },
        "id": "bUNwOhjoj0NC",
        "outputId": "c8ae30e6-ae0f-478f-9809-07beafd5581b"
      },
      "execution_count": 4,
      "outputs": [
        {
          "output_type": "stream",
          "name": "stdout",
          "text": [
            "Resultado para el estado inicial |0> en Qiskit: Statevector([0.70710678+0.j, 0.70710678+0.j],\n",
            "            dims=(2,))\n",
            "Resultado para el estado inicial |1> en Qiskit: Statevector([ 0.70710678+0.j, -0.70710678+0.j],\n",
            "            dims=(2,))\n"
          ]
        }
      ]
    },
    {
      "cell_type": "code",
      "source": [
        "qc = QuantumCircuit(1)\n",
        "qc.h(0)\n",
        "qc.save_statevector()\n",
        "\n",
        "backend = AerSimulator()\n",
        "\n",
        "tqc = transpile(qc, backend)\n",
        "\n",
        "result = backend.run(tqc).result()\n",
        "\n",
        "state = result.get_statevector()\n",
        "\n",
        "print(\"Estado cuántico resultante en Qiskit:\", state)"
      ],
      "metadata": {
        "colab": {
          "base_uri": "https://localhost:8080/"
        },
        "id": "X9WzLKjZkhFQ",
        "outputId": "d78627f0-1088-4f9f-b828-770493532247"
      },
      "execution_count": 7,
      "outputs": [
        {
          "output_type": "stream",
          "name": "stdout",
          "text": [
            "Estado cuántico resultante en Qiskit: Statevector([0.70710678+0.j, 0.70710678+0.j],\n",
            "            dims=(2,))\n"
          ]
        }
      ]
    },
    {
      "cell_type": "code",
      "source": [
        "def apply_hadamard_to_state_qiskit(state):\n",
        "    qc = QuantumCircuit(1)\n",
        "    if state == 1:\n",
        "        qc.x(0)\n",
        "    qc.h(0)\n",
        "    qc.save_statevector()\n",
        "    return qc\n",
        "\n",
        "backend = AerSimulator()\n",
        "\n",
        "qc_0 = apply_hadamard_to_state_qiskit(0)\n",
        "tqc_0 = transpile(qc_0, backend)\n",
        "result_0 = backend.run(tqc_0).result()\n",
        "state_0 = result_0.get_statevector()\n",
        "print(\"Estado cuántico resultante para el estado inicial |0> en Qiskit:\", state_0)\n",
        "\n",
        "qc_1 = apply_hadamard_to_state_qiskit(1)\n",
        "tqc_1 = transpile(qc_1, backend)\n",
        "result_1 = backend.run(tqc_1).result()\n",
        "state_1 = result_1.get_statevector()\n",
        "print(\"Estado cuántico resultante para el estado inicial |1> en Qiskit:\", state_1)"
      ],
      "metadata": {
        "colab": {
          "base_uri": "https://localhost:8080/"
        },
        "id": "GdDFjH-Xk1Ff",
        "outputId": "851c4be3-09e5-4210-fd2f-1bc272c849eb"
      },
      "execution_count": 10,
      "outputs": [
        {
          "output_type": "stream",
          "name": "stdout",
          "text": [
            "Estado cuántico resultante para el estado inicial |0> en Qiskit: Statevector([0.70710678+0.j, 0.70710678+0.j],\n",
            "            dims=(2,))\n",
            "Estado cuántico resultante para el estado inicial |1> en Qiskit: Statevector([ 0.70710678-8.65956056e-17j, -0.70710678+8.65956056e-17j],\n",
            "            dims=(2,))\n"
          ]
        }
      ]
    },
    {
      "cell_type": "code",
      "source": [
        "def create_hxh_circuit(initial_state):\n",
        "    qc = QuantumCircuit(1, 1)\n",
        "\n",
        "    if initial_state == 1:\n",
        "        qc.x(0)\n",
        "\n",
        "    qc.h(0)\n",
        "    qc.x(0)\n",
        "    qc.h(0)\n",
        "\n",
        "    qc.measure(0, 0)\n",
        "\n",
        "    return qc\n",
        "\n",
        "qc0 = create_hxh_circuit(0)\n",
        "qc1 = create_hxh_circuit(1)\n",
        "\n",
        "simulator = AerSimulator()\n",
        "\n",
        "\n",
        "compiled_qc0 = transpile(qc0, simulator)\n",
        "compiled_qc1 = transpile(qc1, simulator)\n",
        "\n",
        "result0 = simulator.run(compiled_qc0).result()\n",
        "result1 = simulator.run(compiled_qc1).result()\n",
        "\n",
        "counts0 = result0.get_counts(compiled_qc0)\n",
        "counts1 = result1.get_counts(compiled_qc1)\n",
        "\n",
        "print(f\"Resultados para el estado inicial |0>: {counts0}\")\n",
        "print(f\"Resultados para el estado inicial |1>: {counts1}\")"
      ],
      "metadata": {
        "colab": {
          "base_uri": "https://localhost:8080/"
        },
        "id": "1o4NU9eeoqgC",
        "outputId": "544f4466-db45-4443-c208-9eb541fd3603"
      },
      "execution_count": 32,
      "outputs": [
        {
          "output_type": "stream",
          "name": "stdout",
          "text": [
            "Resultados para el estado inicial |0>: {'0': 1024}\n",
            "Resultados para el estado inicial |1>: {'1': 1024}\n"
          ]
        }
      ]
    }
  ]
}