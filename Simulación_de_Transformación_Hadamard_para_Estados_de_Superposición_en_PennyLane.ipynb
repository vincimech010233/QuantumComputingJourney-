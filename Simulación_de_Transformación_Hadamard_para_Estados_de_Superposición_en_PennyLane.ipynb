{
  "nbformat": 4,
  "nbformat_minor": 0,
  "metadata": {
    "colab": {
      "provenance": [],
      "authorship_tag": "ABX9TyPm2vh+aBrIecYNAMj8X0dP",
      "include_colab_link": true
    },
    "kernelspec": {
      "name": "python3",
      "display_name": "Python 3"
    },
    "language_info": {
      "name": "python"
    }
  },
  "cells": [
    {
      "cell_type": "markdown",
      "metadata": {
        "id": "view-in-github",
        "colab_type": "text"
      },
      "source": [
        "<a href=\"https://colab.research.google.com/github/vincimech010233/QuantumComputingJourney-/blob/main/Simulaci%C3%B3n_de_Transformaci%C3%B3n_Hadamard_para_Estados_de_Superposici%C3%B3n_en_PennyLane.ipynb\" target=\"_parent\"><img src=\"https://colab.research.google.com/assets/colab-badge.svg\" alt=\"Open In Colab\"/></a>"
      ]
    },
    {
      "cell_type": "code",
      "execution_count": null,
      "metadata": {
        "id": "zbkubWDfn8fq"
      },
      "outputs": [],
      "source": [
        "!pip install pennylane"
      ]
    },
    {
      "cell_type": "code",
      "source": [
        "import pennylane as qml\n",
        "from pennylane import numpy as np\n",
        "\n",
        "# Inicializar el dispositivo cuántico\n",
        "dev = qml.device('default.qubit', wires=3)\n",
        "\n",
        "# Definir el circuito cuántico\n",
        "@qml.qnode(dev)\n",
        "def hadamard_transform():\n",
        "    # Preparar un estado inicial de superposición con amplitudes iguales\n",
        "    for i in range(3):\n",
        "        qml.Hadamard(wires=i)\n",
        "    # Aplicar la puerta Hadamard a cada qubit\n",
        "    for i in range(3):\n",
        "        qml.Hadamard(wires=i)\n",
        "    return qml.state()\n",
        "\n",
        "# Ejecutar el circuito y obtener el estado resultante\n",
        "output_state = hadamard_transform()\n",
        "print(output_state)"
      ],
      "metadata": {
        "colab": {
          "base_uri": "https://localhost:8080/"
        },
        "id": "DLpSIIZsn_2O",
        "outputId": "239b3a4d-d226-4044-8a8f-d03d39e3ef07"
      },
      "execution_count": 2,
      "outputs": [
        {
          "output_type": "stream",
          "name": "stdout",
          "text": [
            "[1.+0.j 0.+0.j 0.+0.j 0.+0.j 0.+0.j 0.+0.j 0.+0.j 0.+0.j]\n"
          ]
        }
      ]
    }
  ]
}