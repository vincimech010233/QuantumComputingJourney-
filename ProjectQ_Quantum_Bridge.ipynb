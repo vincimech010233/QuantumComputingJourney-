{
  "nbformat": 4,
  "nbformat_minor": 0,
  "metadata": {
    "colab": {
      "provenance": [],
      "authorship_tag": "ABX9TyMdhqpmP2KbVmcWZj2zNUvm",
      "include_colab_link": true
    },
    "kernelspec": {
      "name": "python3",
      "display_name": "Python 3"
    },
    "language_info": {
      "name": "python"
    }
  },
  "cells": [
    {
      "cell_type": "markdown",
      "metadata": {
        "id": "view-in-github",
        "colab_type": "text"
      },
      "source": [
        "<a href=\"https://colab.research.google.com/github/vincimech010233/QuantumComputingJourney-/blob/main/ProjectQ_Quantum_Bridge.ipynb\" target=\"_parent\"><img src=\"https://colab.research.google.com/assets/colab-badge.svg\" alt=\"Open In Colab\"/></a>"
      ]
    },
    {
      "cell_type": "code",
      "execution_count": null,
      "metadata": {
        "id": "RhfF9mHufzer"
      },
      "outputs": [],
      "source": [
        "!pip install projectq"
      ]
    },
    {
      "cell_type": "code",
      "source": [
        "from projectq import MainEngine\n",
        "from projectq.ops import H, X, Measure, CNOT, Toffoli\n",
        "from projectq.meta import Dagger\n",
        "\n",
        "def create_bell_pair(qubit1, qubit2):\n",
        "    \"\"\"Función para crear un par de Bell (entrelazados)\"\"\"\n",
        "    H | qubit1\n",
        "    CNOT | (qubit1, qubit2)\n",
        "\n",
        "def teleportation(engine, qubit, qubit_receiver):\n",
        "    \"\"\"Función que implementa la teleportación cuántica\"\"\"\n",
        "    # Crear un par de Bell entre el qubit auxiliar y el qubit receptor\n",
        "    qubit_aux = engine.allocate_qubit()\n",
        "    create_bell_pair(qubit_aux, qubit_receiver)\n",
        "\n",
        "    # Paso de teleportación: entrelazamiento y medida\n",
        "    CNOT | (qubit, qubit_aux)\n",
        "    H | qubit\n",
        "    Measure | qubit\n",
        "    Measure | qubit_aux\n",
        "\n",
        "    # Usa los resultados de la medida para aplicar las correcciones necesarias\n",
        "    if int(qubit_aux):\n",
        "        X | qubit_receiver\n",
        "    if int(qubit):\n",
        "        Z | qubit_receiver\n",
        "\n",
        "# Crear un motor principal de ProjectQ\n",
        "engine = MainEngine()\n",
        "\n",
        "# Preparar un qubit y ponerlo en un estado específico (estado |1>)\n",
        "qubit = engine.allocate_qubit()\n",
        "X | qubit  # Aplica la puerta X para cambiar el estado a |1>\n",
        "\n",
        "# Preparar el qubit receptor (inicialmente en el estado |0>)\n",
        "qubit_receiver = engine.allocate_qubit()\n",
        "\n",
        "# Ejecutar la teleportación\n",
        "teleportation(engine, qubit, qubit_receiver)\n",
        "\n",
        "# Medir el qubit receptor para verificar el estado teletransportado\n",
        "Measure | qubit_receiver\n",
        "engine.flush()\n",
        "\n",
        "# Imprimir el resultado del qubit receptor\n",
        "print(\"Resultado del qubit receptor:\", int(qubit_receiver))"
      ],
      "metadata": {
        "colab": {
          "base_uri": "https://localhost:8080/"
        },
        "id": "kN6GSHxWgPms",
        "outputId": "0742e776-7d82-447a-fcd4-5a45f99a5b57"
      },
      "execution_count": 2,
      "outputs": [
        {
          "output_type": "stream",
          "name": "stdout",
          "text": [
            "Resultado del qubit receptor: 1\n"
          ]
        }
      ]
    }
  ]
}