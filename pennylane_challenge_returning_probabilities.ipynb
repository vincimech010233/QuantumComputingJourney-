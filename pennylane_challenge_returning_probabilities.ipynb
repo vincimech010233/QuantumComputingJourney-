{
  "nbformat": 4,
  "nbformat_minor": 0,
  "metadata": {
    "colab": {
      "provenance": [],
      "authorship_tag": "ABX9TyPapti5gEh88lB5il57bOsg",
      "include_colab_link": true
    },
    "kernelspec": {
      "name": "python3",
      "display_name": "Python 3"
    },
    "language_info": {
      "name": "python"
    }
  },
  "cells": [
    {
      "cell_type": "markdown",
      "metadata": {
        "id": "view-in-github",
        "colab_type": "text"
      },
      "source": [
        "<a href=\"https://colab.research.google.com/github/vincimech010233/QuantumComputingJourney-/blob/main/pennylane_challenge_returning_probabilities.ipynb\" target=\"_parent\"><img src=\"https://colab.research.google.com/assets/colab-badge.svg\" alt=\"Open In Colab\"/></a>"
      ]
    },
    {
      "cell_type": "code",
      "source": [
        "!pip install pennylane"
      ],
      "metadata": {
        "id": "vRFe3BYRN_-j"
      },
      "execution_count": null,
      "outputs": []
    },
    {
      "cell_type": "code",
      "execution_count": 5,
      "metadata": {
        "colab": {
          "base_uri": "https://localhost:8080/"
        },
        "id": "2J2lU2uFN-yF",
        "outputId": "40e75491-b8e0-4758-fce3-573d48175866"
      },
      "outputs": [
        {
          "output_type": "stream",
          "name": "stdout",
          "text": [
            "Running test case 0 with input '1.45783'...\n",
            "Correct!\n",
            "Running test case 1 with input '0.9572'...\n",
            "Correct!\n"
          ]
        }
      ],
      "source": [
        "import json\n",
        "import pennylane as qml\n",
        "import pennylane.numpy as np\n",
        "\n",
        "# Step 1: initialize a device\n",
        "num_wires = 1\n",
        "dev = qml.device('default.qubit', wires=num_wires)\n",
        "\n",
        "# Step 2: Add a decorator below\n",
        "@qml.qnode(dev)\n",
        "\n",
        "def simple_circuit(angle):\n",
        "    \"\"\"\n",
        "    In this function:\n",
        "        * Rotate the qubit around the x-axis by angle.\n",
        "        * Measure the probability the qubit is in the zero state.\n",
        "\n",
        "    Args:\n",
        "        angle (float): how much to rotate a state around the x-axis.\n",
        "\n",
        "    Returns:\n",
        "        np.array(float): the probability of of the state being in the 0\n",
        "        ground state.\n",
        "    \"\"\"\n",
        "\n",
        "\n",
        "\n",
        "    # Step 3: Add gates to the QNode\n",
        "\n",
        "    # Put your code here #\n",
        "    qml.RX(angle, wires=0)\n",
        "\n",
        "    # Step 4: Return the required probability\n",
        "    return qml.probs(wires=[0])\n",
        "\n",
        "\n",
        "# These functions are responsible for testing the solution.\n",
        "def run(test_case_input: str) -> str:\n",
        "    angle = json.loads(test_case_input)\n",
        "    output = simple_circuit(angle)[0]\n",
        "\n",
        "    return str(output)\n",
        "\n",
        "\n",
        "def check(solution_output: str, expected_output: str) -> None:\n",
        "    solution_output = json.loads(solution_output)\n",
        "    expected_output = json.loads(expected_output)\n",
        "    assert np.allclose(solution_output, expected_output, rtol=1e-4)\n",
        "\n",
        "\n",
        "# These are the public test cases\n",
        "test_cases = [\n",
        "    ('1.45783', '0.5563631060725739'),\n",
        "    ('0.9572', '0.7879057356348377')\n",
        "]\n",
        "\n",
        "# This will run the public test cases locally\n",
        "for i, (input_, expected_output) in enumerate(test_cases):\n",
        "    print(f\"Running test case {i} with input '{input_}'...\")\n",
        "\n",
        "    try:\n",
        "        output = run(input_)\n",
        "\n",
        "    except Exception as exc:\n",
        "        print(f\"Runtime Error. {exc}\")\n",
        "\n",
        "    else:\n",
        "        if message := check(output, expected_output):\n",
        "            print(f\"Wrong Answer. Have: '{output}'. Want: '{expected_output}'.\")\n",
        "\n",
        "        else:\n",
        "            print(\"Correct!\")"
      ]
    }
  ]
}