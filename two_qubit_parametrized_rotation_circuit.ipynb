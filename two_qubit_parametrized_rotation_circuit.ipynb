{
  "nbformat": 4,
  "nbformat_minor": 0,
  "metadata": {
    "colab": {
      "provenance": [],
      "authorship_tag": "ABX9TyMd/muiQ9iPBjWl+4aycIkV",
      "include_colab_link": true
    },
    "kernelspec": {
      "name": "python3",
      "display_name": "Python 3"
    },
    "language_info": {
      "name": "python"
    }
  },
  "cells": [
    {
      "cell_type": "markdown",
      "metadata": {
        "id": "view-in-github",
        "colab_type": "text"
      },
      "source": [
        "<a href=\"https://colab.research.google.com/github/vincimech010233/QuantumComputingJourney-/blob/main/two_qubit_parametrized_rotation_circuit.ipynb\" target=\"_parent\"><img src=\"https://colab.research.google.com/assets/colab-badge.svg\" alt=\"Open In Colab\"/></a>"
      ]
    },
    {
      "cell_type": "code",
      "execution_count": null,
      "metadata": {
        "id": "m8Te1wYMS09H"
      },
      "outputs": [],
      "source": [
        "!pip install pennylane"
      ]
    },
    {
      "cell_type": "code",
      "source": [
        "import pennylane as qml\n",
        "from pennylane import numpy as np\n",
        "\n",
        "# Definir el circuito parametrizado\n",
        "def parametrized_circuit(theta):\n",
        "    # Definir un dispositivo cuántico\n",
        "    dev = qml.device(\"default.qubit\", wires=2)\n",
        "\n",
        "    @qml.qnode(dev)\n",
        "    def circuit(theta):\n",
        "        # Aplicar una compuerta de rotación parametrizada al qubit 0\n",
        "        qml.RY(theta[0], wires=0)\n",
        "        # Aplicar una compuerta de rotación parametrizada al qubit 1\n",
        "        qml.RY(theta[1], wires=1)\n",
        "        # Medir ambos qubits\n",
        "        return qml.expval(qml.PauliZ(0)), qml.expval(qml.PauliZ(1))\n",
        "\n",
        "    # Ejecutar el circuito y devolver los resultados\n",
        "    return circuit(theta)\n",
        "\n",
        "\n",
        "# Lista de fases individuales\n",
        "phases = np.linspace(0, 2*np.pi, 50)\n",
        "\n",
        "# Lista de listas de parámetros para cada fase\n",
        "individual_phases = [[ph, ph] for ph in phases]  # Dos valores de parámetros para cada qubit\n",
        "\n",
        "# Crear un sampler para ejecutar los circuitos\n",
        "sampler = qml.device(\"default.qubit\", wires=2)\n",
        "\n",
        "# Ejecutar los circuitos con diferentes valores de fase\n",
        "results = []\n",
        "for params in individual_phases:\n",
        "    result = parametrized_circuit(params)\n",
        "    results.append(result)\n",
        "\n",
        "# Imprimir los resultados\n",
        "for i, result in enumerate(results):\n",
        "    print(f\"Fase: {phases[i]}, Resultado: {result}\")\n"
      ],
      "metadata": {
        "colab": {
          "base_uri": "https://localhost:8080/"
        },
        "id": "eWzhi35rS1l4",
        "outputId": "a8e9f24c-9d0d-4852-f903-0bad22933c00"
      },
      "execution_count": 3,
      "outputs": [
        {
          "output_type": "stream",
          "name": "stdout",
          "text": [
            "Fase: 0.0, Resultado: (tensor(1., requires_grad=True), tensor(1., requires_grad=True))\n",
            "Fase: 0.1282282715750936, Resultado: (tensor(0.99179001, requires_grad=True), tensor(0.99179001, requires_grad=True))\n",
            "Fase: 0.2564565431501872, Resultado: (tensor(0.96729486, requires_grad=True), tensor(0.96729486, requires_grad=True))\n",
            "Fase: 0.38468481472528077, Resultado: (tensor(0.92691676, requires_grad=True), tensor(0.92691676, requires_grad=True))\n",
            "Fase: 0.5129130863003744, Resultado: (tensor(0.8713187, requires_grad=True), tensor(0.8713187, requires_grad=True))\n",
            "Fase: 0.6411413578754679, Resultado: (tensor(0.80141362, requires_grad=True), tensor(0.80141362, requires_grad=True))\n",
            "Fase: 0.7693696294505615, Resultado: (tensor(0.71834935, requires_grad=True), tensor(0.71834935, requires_grad=True))\n",
            "Fase: 0.8975979010256552, Resultado: (tensor(0.6234898, requires_grad=True), tensor(0.6234898, requires_grad=True))\n",
            "Fase: 1.0258261726007487, Resultado: (tensor(0.51839257, requires_grad=True), tensor(0.51839257, requires_grad=True))\n",
            "Fase: 1.1540544441758422, Resultado: (tensor(0.40478334, requires_grad=True), tensor(0.40478334, requires_grad=True))\n",
            "Fase: 1.2822827157509358, Resultado: (tensor(0.28452759, requires_grad=True), tensor(0.28452759, requires_grad=True))\n",
            "Fase: 1.4105109873260295, Resultado: (tensor(0.1595999, requires_grad=True), tensor(0.1595999, requires_grad=True))\n",
            "Fase: 1.538739258901123, Resultado: (tensor(0.03205158, requires_grad=True), tensor(0.03205158, requires_grad=True))\n",
            "Fase: 1.6669675304762166, Resultado: (tensor(-0.09602303, requires_grad=True), tensor(-0.09602303, requires_grad=True))\n",
            "Fase: 1.7951958020513104, Resultado: (tensor(-0.22252093, requires_grad=True), tensor(-0.22252093, requires_grad=True))\n",
            "Fase: 1.9234240736264039, Resultado: (tensor(-0.34536505, requires_grad=True), tensor(-0.34536505, requires_grad=True))\n",
            "Fase: 2.0516523452014974, Resultado: (tensor(-0.46253829, requires_grad=True), tensor(-0.46253829, requires_grad=True))\n",
            "Fase: 2.179880616776591, Resultado: (tensor(-0.57211666, requires_grad=True), tensor(-0.57211666, requires_grad=True))\n",
            "Fase: 2.3081088883516845, Resultado: (tensor(-0.67230089, requires_grad=True), tensor(-0.67230089, requires_grad=True))\n",
            "Fase: 2.436337159926778, Resultado: (tensor(-0.76144596, requires_grad=True), tensor(-0.76144596, requires_grad=True))\n",
            "Fase: 2.5645654315018716, Resultado: (tensor(-0.8380881, requires_grad=True), tensor(-0.8380881, requires_grad=True))\n",
            "Fase: 2.6927937030769655, Resultado: (tensor(-0.90096887, requires_grad=True), tensor(-0.90096887, requires_grad=True))\n",
            "Fase: 2.821021974652059, Resultado: (tensor(-0.94905575, requires_grad=True), tensor(-0.94905575, requires_grad=True))\n",
            "Fase: 2.9492502462271526, Resultado: (tensor(-0.98155916, requires_grad=True), tensor(-0.98155916, requires_grad=True))\n",
            "Fase: 3.077478517802246, Resultado: (tensor(-0.99794539, requires_grad=True), tensor(-0.99794539, requires_grad=True))\n",
            "Fase: 3.2057067893773397, Resultado: (tensor(-0.99794539, requires_grad=True), tensor(-0.99794539, requires_grad=True))\n",
            "Fase: 3.333935060952433, Resultado: (tensor(-0.98155916, requires_grad=True), tensor(-0.98155916, requires_grad=True))\n",
            "Fase: 3.4621633325275267, Resultado: (tensor(-0.94905575, requires_grad=True), tensor(-0.94905575, requires_grad=True))\n",
            "Fase: 3.5903916041026207, Resultado: (tensor(-0.90096887, requires_grad=True), tensor(-0.90096887, requires_grad=True))\n",
            "Fase: 3.7186198756777142, Resultado: (tensor(-0.8380881, requires_grad=True), tensor(-0.8380881, requires_grad=True))\n",
            "Fase: 3.8468481472528078, Resultado: (tensor(-0.76144596, requires_grad=True), tensor(-0.76144596, requires_grad=True))\n",
            "Fase: 3.9750764188279013, Resultado: (tensor(-0.67230089, requires_grad=True), tensor(-0.67230089, requires_grad=True))\n",
            "Fase: 4.103304690402995, Resultado: (tensor(-0.57211666, requires_grad=True), tensor(-0.57211666, requires_grad=True))\n",
            "Fase: 4.231532961978089, Resultado: (tensor(-0.46253829, requires_grad=True), tensor(-0.46253829, requires_grad=True))\n",
            "Fase: 4.359761233553182, Resultado: (tensor(-0.34536505, requires_grad=True), tensor(-0.34536505, requires_grad=True))\n",
            "Fase: 4.487989505128276, Resultado: (tensor(-0.22252093, requires_grad=True), tensor(-0.22252093, requires_grad=True))\n",
            "Fase: 4.616217776703369, Resultado: (tensor(-0.09602303, requires_grad=True), tensor(-0.09602303, requires_grad=True))\n",
            "Fase: 4.744446048278463, Resultado: (tensor(0.03205158, requires_grad=True), tensor(0.03205158, requires_grad=True))\n",
            "Fase: 4.872674319853556, Resultado: (tensor(0.1595999, requires_grad=True), tensor(0.1595999, requires_grad=True))\n",
            "Fase: 5.00090259142865, Resultado: (tensor(0.28452759, requires_grad=True), tensor(0.28452759, requires_grad=True))\n",
            "Fase: 5.129130863003743, Resultado: (tensor(0.40478334, requires_grad=True), tensor(0.40478334, requires_grad=True))\n",
            "Fase: 5.257359134578837, Resultado: (tensor(0.51839257, requires_grad=True), tensor(0.51839257, requires_grad=True))\n",
            "Fase: 5.385587406153931, Resultado: (tensor(0.6234898, requires_grad=True), tensor(0.6234898, requires_grad=True))\n",
            "Fase: 5.513815677729024, Resultado: (tensor(0.71834935, requires_grad=True), tensor(0.71834935, requires_grad=True))\n",
            "Fase: 5.642043949304118, Resultado: (tensor(0.80141362, requires_grad=True), tensor(0.80141362, requires_grad=True))\n",
            "Fase: 5.770272220879211, Resultado: (tensor(0.8713187, requires_grad=True), tensor(0.8713187, requires_grad=True))\n",
            "Fase: 5.898500492454305, Resultado: (tensor(0.92691676, requires_grad=True), tensor(0.92691676, requires_grad=True))\n",
            "Fase: 6.026728764029398, Resultado: (tensor(0.96729486, requires_grad=True), tensor(0.96729486, requires_grad=True))\n",
            "Fase: 6.154957035604492, Resultado: (tensor(0.99179001, requires_grad=True), tensor(0.99179001, requires_grad=True))\n",
            "Fase: 6.283185307179586, Resultado: (tensor(1., requires_grad=True), tensor(1., requires_grad=True))\n"
          ]
        }
      ]
    }
  ]
}