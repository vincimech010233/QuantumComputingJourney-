{
  "nbformat": 4,
  "nbformat_minor": 0,
  "metadata": {
    "colab": {
      "provenance": [],
      "authorship_tag": "ABX9TyPhFPGLZhA2aZmNOx/IM4MA",
      "include_colab_link": true
    },
    "kernelspec": {
      "name": "python3",
      "display_name": "Python 3"
    },
    "language_info": {
      "name": "python"
    }
  },
  "cells": [
    {
      "cell_type": "markdown",
      "metadata": {
        "id": "view-in-github",
        "colab_type": "text"
      },
      "source": [
        "<a href=\"https://colab.research.google.com/github/vincimech010233/QuantumComputingJourney-/blob/main/Exercise_3_Challenge_2023.ipynb\" target=\"_parent\"><img src=\"https://colab.research.google.com/assets/colab-badge.svg\" alt=\"Open In Colab\"/></a>"
      ]
    },
    {
      "cell_type": "code",
      "source": [
        "!pip install pennylane"
      ],
      "metadata": {
        "id": "Bkw89NbDVQxc"
      },
      "execution_count": null,
      "outputs": []
    },
    {
      "cell_type": "code",
      "source": [
        "import pennylane as qml\n",
        "from pennylane import numpy as np\n",
        "\n",
        "# Define el dispositivo\n",
        "dev = qml.device('default.qubit', wires=2)\n",
        "\n",
        "def apply_logic(circuit_func, num_retries=3):\n",
        "    for i in range(num_retries):\n",
        "        # Ejecuta el circuito y obtiene las probabilidades de los estados\n",
        "        probs = circuit_func()\n",
        "\n",
        "        # Decide si el resultado es satisfactorio. Aquí, buscamos el estado |00⟩\n",
        "        if np.argmax(probs) == 0:  # Si el estado con mayor probabilidad es |00⟩\n",
        "            print(f\"Intento {i+1}: Éxito con probabilidades {probs}\")\n",
        "            break\n",
        "        else:\n",
        "            print(f\"Intento {i+1}: No se obtuvo |00⟩, reintentando...\")\n",
        "\n",
        "@qml.qnode(dev)\n",
        "def circuit():\n",
        "    qml.Hadamard(wires=0)\n",
        "    qml.Hadamard(wires=1)\n",
        "    # Medición\n",
        "    return qml.probs(wires=[0, 1])\n",
        "\n",
        "# Envuelve la ejecución del circuito con la lógica de reintento\n",
        "apply_logic(circuit)"
      ],
      "metadata": {
        "colab": {
          "base_uri": "https://localhost:8080/"
        },
        "id": "bApasKKaVLmM",
        "outputId": "356be08f-d455-4ac8-a40a-805ff21ad835"
      },
      "execution_count": 2,
      "outputs": [
        {
          "output_type": "stream",
          "name": "stdout",
          "text": [
            "Intento 1: Éxito con probabilidades [0.25 0.25 0.25 0.25]\n"
          ]
        }
      ]
    },
    {
      "cell_type": "code",
      "source": [],
      "metadata": {
        "id": "MalwbnfyW_9b"
      },
      "execution_count": null,
      "outputs": []
    }
  ]
}