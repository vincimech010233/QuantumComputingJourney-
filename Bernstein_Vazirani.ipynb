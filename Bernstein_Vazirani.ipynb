{
  "nbformat": 4,
  "nbformat_minor": 0,
  "metadata": {
    "colab": {
      "provenance": [],
      "authorship_tag": "ABX9TyMttbBFmPq3oUxNRxSjee7G",
      "include_colab_link": true
    },
    "kernelspec": {
      "name": "python3",
      "display_name": "Python 3"
    },
    "language_info": {
      "name": "python"
    }
  },
  "cells": [
    {
      "cell_type": "markdown",
      "metadata": {
        "id": "view-in-github",
        "colab_type": "text"
      },
      "source": [
        "<a href=\"https://colab.research.google.com/github/vincimech010233/QuantumComputingJourney-/blob/main/Bernstein_Vazirani.ipynb\" target=\"_parent\"><img src=\"https://colab.research.google.com/assets/colab-badge.svg\" alt=\"Open In Colab\"/></a>"
      ]
    },
    {
      "cell_type": "code",
      "execution_count": null,
      "metadata": {
        "id": "XoO5vzYuRrnC"
      },
      "outputs": [],
      "source": [
        "!pip install pennylane"
      ]
    },
    {
      "cell_type": "code",
      "source": [
        "import pennylane as qml\n",
        "from pennylane import numpy as np\n",
        "\n",
        "# Definir el circuito Bernstein-Vazirani como una función de PennyLane\n",
        "def bernstein_vazirani_circuit(params, hidden_string):\n",
        "    # Definir un dispositivo cuántico\n",
        "    num_qubits = len(hidden_string)\n",
        "    dev = qml.device(\"default.qubit\", wires=num_qubits + 1)\n",
        "\n",
        "    @qml.qnode(dev)\n",
        "    def circuit(params):\n",
        "        # Aplicar compuertas Hadamard a todos los qubits de entrada\n",
        "        for i in range(num_qubits):\n",
        "            qml.Hadamard(wires=i)\n",
        "\n",
        "        # Aplicar la compuerta Oracle\n",
        "        for i, bit in enumerate(hidden_string):\n",
        "            if bit == '1':\n",
        "                qml.CNOT(wires=[i, num_qubits])\n",
        "\n",
        "        # Aplicar compuertas Hadamard nuevamente a todos los qubits de entrada\n",
        "        for i in range(num_qubits):\n",
        "            qml.Hadamard(wires=i)\n",
        "\n",
        "        # Medir los qubits de entrada\n",
        "        return [qml.expval(qml.PauliZ(i)) for i in range(num_qubits)]\n",
        "\n",
        "    # Ejecutar el circuito y devolver los resultados\n",
        "    return circuit(params)\n",
        "\n",
        "\n",
        "# Ejemplo de llamada a la función bernstein_vazirani_circuit con una cadena oculta '111' y parámetros aleatorios\n",
        "hidden_string = '111'\n",
        "num_qubits = len(hidden_string)\n",
        "params = np.random.uniform(low=0, high=2*np.pi, size=num_qubits)\n",
        "results = bernstein_vazirani_circuit(params, hidden_string)\n",
        "print(\"Resultados para la cadena oculta '{}' y los parámetros aleatorios:\".format(hidden_string))\n",
        "print(results)"
      ],
      "metadata": {
        "colab": {
          "base_uri": "https://localhost:8080/"
        },
        "id": "uRYNyhj0RwNx",
        "outputId": "0771c910-f170-4b8c-b96e-55e55857fd11"
      },
      "execution_count": 6,
      "outputs": [
        {
          "output_type": "stream",
          "name": "stdout",
          "text": [
            "Resultados para la cadena oculta '111' y los parámetros aleatorios:\n",
            "[tensor(0., requires_grad=True), tensor(0., requires_grad=True), tensor(0., requires_grad=True)]\n"
          ]
        }
      ]
    }
  ]
}