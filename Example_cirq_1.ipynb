{
  "nbformat": 4,
  "nbformat_minor": 0,
  "metadata": {
    "colab": {
      "provenance": [],
      "authorship_tag": "ABX9TyOtVua+C6/OyiAbNjO8Kgkm",
      "include_colab_link": true
    },
    "kernelspec": {
      "name": "python3",
      "display_name": "Python 3"
    },
    "language_info": {
      "name": "python"
    }
  },
  "cells": [
    {
      "cell_type": "markdown",
      "metadata": {
        "id": "view-in-github",
        "colab_type": "text"
      },
      "source": [
        "<a href=\"https://colab.research.google.com/github/vincimech010233/QuantumComputingJourney-/blob/main/Example_cirq_1.ipynb\" target=\"_parent\"><img src=\"https://colab.research.google.com/assets/colab-badge.svg\" alt=\"Open In Colab\"/></a>"
      ]
    },
    {
      "cell_type": "code",
      "execution_count": null,
      "metadata": {
        "id": "vLcy5lfnXRAb"
      },
      "outputs": [],
      "source": [
        "!pip install cirq"
      ]
    },
    {
      "cell_type": "code",
      "source": [
        "import cirq"
      ],
      "metadata": {
        "id": "LFTOFOOLXWDe"
      },
      "execution_count": 9,
      "outputs": []
    },
    {
      "cell_type": "code",
      "source": [
        "# Definir los qubits a nivel global\n",
        "qubit_mensaje = cirq.NamedQubit(\"Mensaje\")\n",
        "qubit_alice = cirq.NamedQubit(\"Alice\")\n",
        "qubit_bob = cirq.NamedQubit(\"Bob\")\n",
        "\n",
        "def crear_circuito_teleportacion(qubit_mensaje, qubit_alice, qubit_bob):\n",
        "\n",
        "    # Crear el circuito\n",
        "    circuito = cirq.Circuit()\n",
        "\n",
        "    # Paso 1: Entrelazar los qubits de Alice y Bob\n",
        "    circuito.append([cirq.H(qubit_alice), cirq.CNOT(qubit_alice, qubit_bob)])\n",
        "\n",
        "    # Paso 2: Alice aplica operaciones al qubit de mensaje y su qubit entrelazado\n",
        "    circuito.append([cirq.CNOT(qubit_mensaje, qubit_alice), cirq.H(qubit_mensaje)])\n",
        "\n",
        "    # Paso 3: Medición de los qubits de Alice\n",
        "    circuito.append(cirq.measure(qubit_mensaje, qubit_alice))\n",
        "\n",
        "    # Paso 4: Operaciones condicionales en Bob\n",
        "    circuito.append([cirq.CNOT(qubit_alice, qubit_bob), cirq.CZ(qubit_mensaje, qubit_bob)])\n",
        "\n",
        "    return circuito"
      ],
      "metadata": {
        "id": "9H6EmtnoXdzA"
      },
      "execution_count": 14,
      "outputs": []
    },
    {
      "cell_type": "code",
      "source": [
        "circuito_teleportacion = crear_circuito_teleportacion(qubit_mensaje, qubit_alice, qubit_bob)\n",
        "print(\"Circuito de Teleportación Cuántica:\\n\")\n",
        "print(circuito)"
      ],
      "metadata": {
        "colab": {
          "base_uri": "https://localhost:8080/"
        },
        "id": "XOmuRuyHXsoo",
        "outputId": "6e96776b-dba6-494e-861d-e9d002b4fd9a"
      },
      "execution_count": 16,
      "outputs": [
        {
          "output_type": "stream",
          "name": "stdout",
          "text": [
            "Circuito de Teleportación Cuántica:\n",
            "\n",
            "Alice: ─────H───@───X───────M───@───────\n",
            "                │   │       │   │\n",
            "Bob: ───────────X───┼───────┼───X───@───\n",
            "                    │       │       │\n",
            "Mensaje: ───────────@───H───M───────@───\n"
          ]
        }
      ]
    },
    {
      "cell_type": "code",
      "source": [
        "# Crear un simulador\n",
        "simulador = cirq.Simulator()\n",
        "\n",
        "# Supongamos que queremos teleportar el estado |1⟩\n",
        "mensaje_inicial = cirq.Circuit(cirq.X(qubit_mensaje))\n",
        "\n",
        "# Asegúrate de pasar los qubits como argumentos a la función\n",
        "circuito_teleportacion = crear_circuito_teleportacion(qubit_mensaje, qubit_alice, qubit_bob)\n",
        "\n",
        "# Añadir el circuito de teleportación al circuito inicial\n",
        "mensaje_inicial += circuito_teleportacion\n",
        "\n",
        "# Simular el circuito\n",
        "resultado = simulador.simulate(mensaje_inicial)\n",
        "\n",
        "# Imprimir el estado final de Bob\n",
        "bob_estado_final = resultado.final_state_vector\n",
        "print(bob_estado_final)\n"
      ],
      "metadata": {
        "colab": {
          "base_uri": "https://localhost:8080/"
        },
        "id": "Goi4lM7VXwUb",
        "outputId": "e9456c2b-23e2-4e98-f22b-7fdad88a6680"
      },
      "execution_count": 20,
      "outputs": [
        {
          "output_type": "stream",
          "name": "stdout",
          "text": [
            "[ 0.        +0.j  0.        +0.j  0.99999994+0.j -0.        +0.j\n",
            "  0.        +0.j  0.        +0.j  0.        +0.j -0.        +0.j]\n"
          ]
        }
      ]
    }
  ]
}