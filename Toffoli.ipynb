{
  "nbformat": 4,
  "nbformat_minor": 0,
  "metadata": {
    "colab": {
      "provenance": [],
      "authorship_tag": "ABX9TyPK119lGNPMakld3fncj1a/",
      "include_colab_link": true
    },
    "kernelspec": {
      "name": "python3",
      "display_name": "Python 3"
    },
    "language_info": {
      "name": "python"
    }
  },
  "cells": [
    {
      "cell_type": "markdown",
      "metadata": {
        "id": "view-in-github",
        "colab_type": "text"
      },
      "source": [
        "<a href=\"https://colab.research.google.com/github/vincimech010233/QuantumComputingJourney-/blob/main/Toffoli.ipynb\" target=\"_parent\"><img src=\"https://colab.research.google.com/assets/colab-badge.svg\" alt=\"Open In Colab\"/></a>"
      ]
    },
    {
      "cell_type": "code",
      "source": [
        "!pip install pennylane"
      ],
      "metadata": {
        "id": "9LaVVbJvP2Lm"
      },
      "execution_count": null,
      "outputs": []
    },
    {
      "cell_type": "code",
      "source": [
        "import pennylane as qml\n",
        "from pennylane import numpy as np\n",
        "\n",
        "# Definimos el dispositivo\n",
        "dev = qml.device(\"default.qubit\", wires=3)\n",
        "\n",
        "# Definimos la función que representa el circuito\n",
        "@qml.qnode(dev)\n",
        "def circuit(x):\n",
        "    # Aplicamos la compuerta de Toffoli (CCX) utilizando compuertas básicas\n",
        "    qml.CNOT(wires=[1, 2])\n",
        "    qml.CNOT(wires=[0, 2])\n",
        "    qml.Toffoli(wires=[0, 1, 2])  # Esta función simula una compuerta de Toffoli usando compuertas básicas\n",
        "    return qml.expval(qml.PauliZ(2))  # Medimos el tercer qubit\n",
        "\n",
        "# Evaluamos el circuito\n",
        "result = circuit(np.array([0, 0, 0]))\n",
        "print(\"Resultado de la medición:\", result)"
      ],
      "metadata": {
        "colab": {
          "base_uri": "https://localhost:8080/"
        },
        "id": "XKeM29NhPwsM",
        "outputId": "10961a52-37ca-479f-a13d-925e30030142"
      },
      "execution_count": 13,
      "outputs": [
        {
          "output_type": "stream",
          "name": "stdout",
          "text": [
            "Resultado de la medición: 1.0\n"
          ]
        }
      ]
    }
  ]
}