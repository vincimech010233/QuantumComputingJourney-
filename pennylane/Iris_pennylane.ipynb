{
  "nbformat": 4,
  "nbformat_minor": 0,
  "metadata": {
    "colab": {
      "provenance": [],
      "authorship_tag": "ABX9TyM0rdDKTOVyVZmVGN+peXh2",
      "include_colab_link": true
    },
    "kernelspec": {
      "name": "python3",
      "display_name": "Python 3"
    },
    "language_info": {
      "name": "python"
    }
  },
  "cells": [
    {
      "cell_type": "markdown",
      "metadata": {
        "id": "view-in-github",
        "colab_type": "text"
      },
      "source": [
        "<a href=\"https://colab.research.google.com/github/vincimech010233/QuantumComputingJourney-/blob/main/Iris_pennylane.ipynb\" target=\"_parent\"><img src=\"https://colab.research.google.com/assets/colab-badge.svg\" alt=\"Open In Colab\"/></a>"
      ]
    },
    {
      "cell_type": "code",
      "execution_count": null,
      "metadata": {
        "id": "2bJv9POk56D6"
      },
      "outputs": [],
      "source": [
        "!pip install pennylane scikit-learn torch"
      ]
    },
    {
      "cell_type": "code",
      "source": [
        "import numpy as np\n",
        "import torch\n",
        "import torch.nn as nn\n",
        "import pennylane as qml\n",
        "from sklearn.datasets import load_iris\n",
        "from sklearn.model_selection import train_test_split\n",
        "from sklearn.preprocessing import StandardScaler"
      ],
      "metadata": {
        "id": "_hVAwMDt6Da8"
      },
      "execution_count": 3,
      "outputs": []
    },
    {
      "cell_type": "code",
      "source": [
        "# Cargar el dataset de Iris\n",
        "data = load_iris()\n",
        "X, y = data.data, data.target"
      ],
      "metadata": {
        "id": "KixYz5ot6qIr"
      },
      "execution_count": 4,
      "outputs": []
    },
    {
      "cell_type": "code",
      "source": [
        "# Simplificar el problema a una clasificación binaria\n",
        "X = X[:100]  # Usamos solo las primeras 100 muestras para Setosa y Versicolor\n",
        "y = y[:100]"
      ],
      "metadata": {
        "id": "A6JG3hGT6t1x"
      },
      "execution_count": 5,
      "outputs": []
    },
    {
      "cell_type": "code",
      "source": [
        "# Preprocesar los datos\n",
        "scaler = StandardScaler()\n",
        "X = scaler.fit_transform(X)"
      ],
      "metadata": {
        "id": "cJGQRwNC6xHp"
      },
      "execution_count": 6,
      "outputs": []
    },
    {
      "cell_type": "code",
      "source": [
        "# Convertir a tensores de PyTorch\n",
        "X = torch.tensor(X, dtype=torch.float32)\n",
        "y = torch.tensor(y, dtype=torch.float32).view(-1, 1)"
      ],
      "metadata": {
        "id": "Y5b35Sid6zey"
      },
      "execution_count": 7,
      "outputs": []
    },
    {
      "cell_type": "code",
      "source": [
        "# Dividir los datos en entrenamiento y prueba\n",
        "X_train, X_test, y_train, y_test = train_test_split(X, y, test_size=0.2, random_state=42)"
      ],
      "metadata": {
        "id": "dxq2VDro62VB"
      },
      "execution_count": 8,
      "outputs": []
    },
    {
      "cell_type": "code",
      "source": [
        "# Configurar el dispositivo cuántico\n",
        "dev = qml.device('default.qubit', wires=1)"
      ],
      "metadata": {
        "id": "EqBCfLBs65NZ"
      },
      "execution_count": 9,
      "outputs": []
    },
    {
      "cell_type": "code",
      "source": [
        "# Definir el circuito cuántico\n",
        "def circuit(params, x):\n",
        "    qml.Rot(x[0], x[1], x[2], wires=0)\n",
        "    qml.RY(params[0], wires=0)\n",
        "    return qml.expval(qml.PauliZ(0))"
      ],
      "metadata": {
        "id": "uIv7w48q68ip"
      },
      "execution_count": 10,
      "outputs": []
    },
    {
      "cell_type": "code",
      "source": [
        "# Crear el modelo híbrido\n",
        "class HybridModel(nn.Module):\n",
        "    def __init__(self):\n",
        "        super(HybridModel, self).__init__()\n",
        "        self.pre_net = nn.Linear(4, 3)\n",
        "        self.q_params = nn.Parameter(torch.rand(1))\n",
        "        self.qnode = qml.QNode(circuit, dev, interface='torch')\n",
        "        self.post_net = nn.Linear(1, 1)\n",
        "\n",
        "    def forward(self, x):\n",
        "        x = self.pre_net(x)\n",
        "        x = torch.tanh(x)\n",
        "        x = [self.qnode(self.q_params, x_) for x_ in x]\n",
        "        x = torch.tensor(x).float().unsqueeze(-1)\n",
        "        x = self.post_net(x)\n",
        "        return torch.sigmoid(x)\n",
        "\n",
        "model = HybridModel()"
      ],
      "metadata": {
        "id": "IKBsoDzK7AwZ"
      },
      "execution_count": 13,
      "outputs": []
    },
    {
      "cell_type": "code",
      "source": [
        "# Entrenar el modelo\n",
        "optimizer = torch.optim.Adam(model.parameters(), lr=0.01)\n",
        "criterion = nn.BCELoss()"
      ],
      "metadata": {
        "id": "3_ICjLYb7DMx"
      },
      "execution_count": 14,
      "outputs": []
    },
    {
      "cell_type": "code",
      "source": [
        "epochs = 50\n",
        "for epoch in range(epochs):\n",
        "    optimizer.zero_grad()\n",
        "    y_pred = model(X_train)\n",
        "    loss = criterion(y_pred, y_train)\n",
        "    loss.backward()\n",
        "    optimizer.step()\n",
        "    if epoch % 5 == 0:\n",
        "        print(f\"Epoch {epoch}, Loss: {loss.item()}\")"
      ],
      "metadata": {
        "colab": {
          "base_uri": "https://localhost:8080/"
        },
        "id": "8YmOkGqR7OEa",
        "outputId": "7c7f0198-b7d6-4281-feaa-1c14ac021a61"
      },
      "execution_count": 15,
      "outputs": [
        {
          "output_type": "stream",
          "name": "stdout",
          "text": [
            "Epoch 0, Loss: 0.6954945921897888\n",
            "Epoch 5, Loss: 0.6856858134269714\n",
            "Epoch 10, Loss: 0.6779828071594238\n",
            "Epoch 15, Loss: 0.6722280979156494\n",
            "Epoch 20, Loss: 0.667880654335022\n",
            "Epoch 25, Loss: 0.6641548871994019\n",
            "Epoch 30, Loss: 0.6604390740394592\n",
            "Epoch 35, Loss: 0.6565159559249878\n",
            "Epoch 40, Loss: 0.6524172425270081\n",
            "Epoch 45, Loss: 0.6482306718826294\n"
          ]
        }
      ]
    },
    {
      "cell_type": "code",
      "source": [
        "# Evaluar el modelo en el conjunto de prueba\n",
        "with torch.no_grad():\n",
        "    y_pred = model(X_test)\n",
        "    predictions = y_pred.round()\n",
        "    accuracy = (predictions == y_test).float().mean()\n",
        "    print(f\"Accuracy: {accuracy.item()}\")"
      ],
      "metadata": {
        "colab": {
          "base_uri": "https://localhost:8080/"
        },
        "id": "a40Q1nUh7REd",
        "outputId": "a3af9bb2-154c-4c03-8d1a-ac87b37f0e3b"
      },
      "execution_count": 16,
      "outputs": [
        {
          "output_type": "stream",
          "name": "stdout",
          "text": [
            "Accuracy: 0.44999998807907104\n"
          ]
        }
      ]
    }
  ]
}