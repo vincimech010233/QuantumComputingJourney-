{
  "nbformat": 4,
  "nbformat_minor": 0,
  "metadata": {
    "colab": {
      "provenance": [],
      "authorship_tag": "ABX9TyNfJerK3tsx+XpJ52VcxYdc",
      "include_colab_link": true
    },
    "kernelspec": {
      "name": "python3",
      "display_name": "Python 3"
    },
    "language_info": {
      "name": "python"
    }
  },
  "cells": [
    {
      "cell_type": "markdown",
      "metadata": {
        "id": "view-in-github",
        "colab_type": "text"
      },
      "source": [
        "<a href=\"https://colab.research.google.com/github/vincimech010233/QuantumComputingJourney-/blob/main/Returning_tensor_product_observables_with_Pennylane.ipynb\" target=\"_parent\"><img src=\"https://colab.research.google.com/assets/colab-badge.svg\" alt=\"Open In Colab\"/></a>"
      ]
    },
    {
      "cell_type": "markdown",
      "source": [
        "PennyLane Challenge: https://pennylane.ai/challenges/tensor_observables/\n",
        "\n"
      ],
      "metadata": {
        "id": "meuG_ukvUOkM"
      }
    },
    {
      "cell_type": "code",
      "source": [
        "!pip install pennylane"
      ],
      "metadata": {
        "id": "zOIXhrY2UFeW"
      },
      "execution_count": null,
      "outputs": []
    },
    {
      "cell_type": "code",
      "execution_count": 2,
      "metadata": {
        "colab": {
          "base_uri": "https://localhost:8080/"
        },
        "id": "Rth6A8nNTQxh",
        "outputId": "23b20703-5236-4179-a1fc-afcee4188d54"
      },
      "outputs": [
        {
          "output_type": "stream",
          "name": "stdout",
          "text": [
            "Running test case 0 with input '1.23456'...\n",
            "Correct!\n",
            "Running test case 1 with input '1.86923'...\n",
            "Correct!\n"
          ]
        }
      ],
      "source": [
        "import json\n",
        "import pennylane as qml\n",
        "import pennylane.numpy as np\n",
        "\n",
        "# Step 1: initialize a device by the name dev\n",
        "num_wires = 2\n",
        "dev = qml.device('default.qubit', wires=num_wires)\n",
        "\n",
        "# Step 2: Add a decorator below\n",
        "@qml.qnode(dev)\n",
        "\n",
        "def simple_circuit(angle):\n",
        "\n",
        "    \"\"\"\n",
        "    In this function:\n",
        "        * Prepare the Bell state |Phi+>.\n",
        "        * Rotate the first qubit around the y-axis by angle\n",
        "        * Measure the tensor product observable Z0xZ1.\n",
        "\n",
        "    Args:\n",
        "        angle (float): how much to rotate a state around the y-axis.\n",
        "\n",
        "    Returns:\n",
        "        Union[tensor, float]: the expectation value of the Z0xZ1 observable.\n",
        "    \"\"\"\n",
        "\n",
        "\n",
        "\n",
        "    # Step 3: Add gates to the QNode\n",
        "\n",
        "    qml.Hadamard(wires=0)\n",
        "    qml.CNOT(wires=[0, 1])\n",
        "\n",
        "    qml.RY(angle, wires=0)\n",
        "\n",
        "    # Step 4: Return the required expectation value\n",
        "    return qml.expval(qml.PauliZ(0) @ qml.PauliZ(1))\n",
        "\n",
        "\n",
        "# These functions are responsible for testing the solution.\n",
        "def run(test_case_input: str) -> str:\n",
        "    angle = json.loads(test_case_input)\n",
        "    output = simple_circuit(angle).numpy()\n",
        "\n",
        "    return str(output)\n",
        "\n",
        "def check(solution_output: str, expected_output: str) -> None:\n",
        "    solution_output = json.loads(solution_output)\n",
        "    expected_output = json.loads(expected_output)\n",
        "    assert np.allclose(solution_output, expected_output, rtol=1e-4), \"Not the right expectation value\"\n",
        "\n",
        "\n",
        "# These are the public test cases\n",
        "test_cases = [\n",
        "    ('1.23456', '0.3299365180851774'),\n",
        "    ('1.86923', '-0.2940234756205866')\n",
        "]\n",
        "\n",
        "# This will run the public test cases locally\n",
        "for i, (input_, expected_output) in enumerate(test_cases):\n",
        "    print(f\"Running test case {i} with input '{input_}'...\")\n",
        "\n",
        "    try:\n",
        "        output = run(input_)\n",
        "\n",
        "    except Exception as exc:\n",
        "        print(f\"Runtime Error. {exc}\")\n",
        "\n",
        "    else:\n",
        "        if message := check(output, expected_output):\n",
        "            print(f\"Wrong Answer. Have: '{output}'. Want: '{expected_output}'.\")\n",
        "\n",
        "        else:\n",
        "            print(\"Correct!\")"
      ]
    }
  ]
}