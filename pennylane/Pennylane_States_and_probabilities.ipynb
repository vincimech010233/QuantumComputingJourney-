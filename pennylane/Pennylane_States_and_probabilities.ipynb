{
  "nbformat": 4,
  "nbformat_minor": 0,
  "metadata": {
    "colab": {
      "provenance": [],
      "authorship_tag": "ABX9TyOzvOEqJbDNrQ8tU8YhF2Ra",
      "include_colab_link": true
    },
    "kernelspec": {
      "name": "python3",
      "display_name": "Python 3"
    },
    "language_info": {
      "name": "python"
    }
  },
  "cells": [
    {
      "cell_type": "markdown",
      "metadata": {
        "id": "view-in-github",
        "colab_type": "text"
      },
      "source": [
        "<a href=\"https://colab.research.google.com/github/vincimech010233/QuantumComputingJourney-/blob/main/Pennylane_States_and_probabilities.ipynb\" target=\"_parent\"><img src=\"https://colab.research.google.com/assets/colab-badge.svg\" alt=\"Open In Colab\"/></a>"
      ]
    },
    {
      "cell_type": "code",
      "execution_count": null,
      "metadata": {
        "id": "f3AtbphjQKta"
      },
      "outputs": [],
      "source": [
        "!pip install pennylane"
      ]
    },
    {
      "cell_type": "code",
      "source": [
        "import json\n",
        "import pennylane as qml\n",
        "import pennylane.numpy as np\n",
        "\n",
        "# Put your code here #\n",
        "\n",
        "# Create a default.qubit device with 2 qubits / wires using qml.device\n",
        "dev = qml.device('default.qubit', wires=2)\n",
        "\n",
        "# Turn your circuit into a QNode\n",
        "@qml.qnode(dev)\n",
        "\n",
        "def circuit(angles):\n",
        "    \"\"\"\n",
        "    The quantum circuit that you will simulate.\n",
        "\n",
        "    Args:\n",
        "        angles (list(float)): The gate angles in the circuit.\n",
        "\n",
        "    Returns:\n",
        "        (numpy.tensor): The probability vector of the underlying quantum state\n",
        "        that this circuit produces.\n",
        "    \"\"\"\n",
        "\n",
        "\n",
        "    # Put the rotation gates here\n",
        "    qml.RY(angles[0], wires=0)\n",
        "    qml.RY(angles[1], wires=1)\n",
        "    return qml.probs(wires=[0, 1])\n",
        "\n",
        "    return qml.probs(wires=[0, 1])\n",
        "\n",
        "\n",
        "# These functions are responsible for testing the solution.\n",
        "def run(test_case_input: str) -> str:\n",
        "    angles = json.loads(test_case_input)\n",
        "    output = circuit(angles).tolist()\n",
        "\n",
        "    return str(output)\n",
        "\n",
        "\n",
        "def check(solution_output: str, expected_output: str) -> None:\n",
        "    solution_output = json.loads(solution_output)\n",
        "    expected_output = json.loads(expected_output)\n",
        "    assert np.allclose(solution_output, expected_output, rtol=1e-4)\n",
        "\n",
        "\n",
        "# These are the public test cases\n",
        "test_cases = [\n",
        "    ('[1.23, 4.56]', '[0.2829251572359589, 0.3841937063262924, 0.1411749135148633, 0.1917062229228854]'),\n",
        "    ('[7.89, 0.12]', '[0.48026161094775754, 0.001733099740534947, 0.5161427069791757, 0.0018625823325319265]')\n",
        "]\n",
        "\n",
        "# This will run the public test cases locally\n",
        "for i, (input_, expected_output) in enumerate(test_cases):\n",
        "    print(f\"Running test case {i} with input '{input_}'...\")\n",
        "\n",
        "    try:\n",
        "        output = run(input_)\n",
        "\n",
        "    except Exception as exc:\n",
        "        print(f\"Runtime Error. {exc}\")\n",
        "\n",
        "    else:\n",
        "        if message := check(output, expected_output):\n",
        "            print(f\"Wrong Answer. Have: '{output}'. Want: '{expected_output}'.\")\n",
        "\n",
        "        else:\n",
        "            print(\"Correct!\")"
      ],
      "metadata": {
        "colab": {
          "base_uri": "https://localhost:8080/"
        },
        "id": "g-WSuciLQ0lK",
        "outputId": "c311735a-0288-4c14-c0c0-e9eeb6558634"
      },
      "execution_count": 2,
      "outputs": [
        {
          "output_type": "stream",
          "name": "stdout",
          "text": [
            "Running test case 0 with input '[1.23, 4.56]'...\n",
            "Correct!\n",
            "Running test case 1 with input '[7.89, 0.12]'...\n",
            "Correct!\n"
          ]
        }
      ]
    }
  ]
}