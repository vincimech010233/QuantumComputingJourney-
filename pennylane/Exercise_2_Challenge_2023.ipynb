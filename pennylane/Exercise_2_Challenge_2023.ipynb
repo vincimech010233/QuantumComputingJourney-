{
  "nbformat": 4,
  "nbformat_minor": 0,
  "metadata": {
    "colab": {
      "provenance": [],
      "authorship_tag": "ABX9TyMyvRwfb8kNuDcdGSFDGHpk",
      "include_colab_link": true
    },
    "kernelspec": {
      "name": "python3",
      "display_name": "Python 3"
    },
    "language_info": {
      "name": "python"
    }
  },
  "cells": [
    {
      "cell_type": "markdown",
      "metadata": {
        "id": "view-in-github",
        "colab_type": "text"
      },
      "source": [
        "<a href=\"https://colab.research.google.com/github/vincimech010233/QuantumComputingJourney-/blob/main/Exercise_2_Challenge_2023.ipynb\" target=\"_parent\"><img src=\"https://colab.research.google.com/assets/colab-badge.svg\" alt=\"Open In Colab\"/></a>"
      ]
    },
    {
      "cell_type": "markdown",
      "source": [
        "\n",
        "# Exercise 2: Implementing a Quantum Circuit with Pennylane\n"
      ],
      "metadata": {
        "id": "zY-lzKqwQTIS"
      }
    },
    {
      "cell_type": "code",
      "source": [
        "!pip install pennylane"
      ],
      "metadata": {
        "id": "dpY7PVmDQGUn"
      },
      "execution_count": null,
      "outputs": []
    },
    {
      "cell_type": "code",
      "source": [
        "import pennylane as qml\n",
        "from pennylane import numpy as np\n",
        "\n",
        "# Define el dispositivo\n",
        "dev = qml.device('default.qubit', wires=3)\n",
        "\n",
        "# Construye el circuito\n",
        "@qml.qnode(dev)\n",
        "def circuit():\n",
        "    # Aplica Hadamard a todos los qubits\n",
        "    qml.Hadamard(wires=0)\n",
        "    qml.Hadamard(wires=1)\n",
        "    qml.Hadamard(wires=2)\n",
        "\n",
        "    # Aplica la puerta Toffoli (aquí se asume simplificadamente)\n",
        "    qml.Toffoli(wires=[0, 1, 2])\n",
        "\n",
        "    # Aplica la puerta S al qubit objetivo\n",
        "    qml.S(wires=2)\n",
        "\n",
        "    # Aplica otra puerta Toffoli\n",
        "    qml.Toffoli(wires=[0, 1, 2])\n",
        "\n",
        "    # Aplica Hadamard nuevamente a todos los qubits\n",
        "    qml.Hadamard(wires=0)\n",
        "    qml.Hadamard(wires=1)\n",
        "    qml.Hadamard(wires=2)\n",
        "\n",
        "    # Medición\n",
        "    return qml.probs(wires=[0, 1, 2])\n",
        "\n",
        "# Ejecuta el circuito\n",
        "print(circuit())\n"
      ],
      "metadata": {
        "colab": {
          "base_uri": "https://localhost:8080/"
        },
        "id": "Xwn6d6p7QFdR",
        "outputId": "d479a4d3-8ed3-44c9-ffdc-22d296f923be"
      },
      "execution_count": 11,
      "outputs": [
        {
          "output_type": "stream",
          "name": "stdout",
          "text": [
            "[0.5   0.125 0.    0.125 0.    0.125 0.    0.125]\n"
          ]
        }
      ]
    }
  ]
}