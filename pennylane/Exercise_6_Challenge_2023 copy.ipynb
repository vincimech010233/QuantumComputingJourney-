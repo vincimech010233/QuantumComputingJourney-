{
  "nbformat": 4,
  "nbformat_minor": 0,
  "metadata": {
    "colab": {
      "provenance": [],
      "authorship_tag": "ABX9TyOlZEUsQlAjzohkleeqNjKd",
      "include_colab_link": true
    },
    "kernelspec": {
      "name": "python3",
      "display_name": "Python 3"
    },
    "language_info": {
      "name": "python"
    }
  },
  "cells": [
    {
      "cell_type": "markdown",
      "metadata": {
        "id": "view-in-github",
        "colab_type": "text"
      },
      "source": [
        "<a href=\"https://colab.research.google.com/github/vincimech010233/QuantumComputingJourney-/blob/main/Exercise_6_Challenge_2023.ipynb\" target=\"_parent\"><img src=\"https://colab.research.google.com/assets/colab-badge.svg\" alt=\"Open In Colab\"/></a>"
      ]
    },
    {
      "cell_type": "code",
      "execution_count": null,
      "metadata": {
        "id": "_VTkJURMcCZ_"
      },
      "outputs": [],
      "source": [
        "!pip install pennylane"
      ]
    },
    {
      "cell_type": "code",
      "source": [
        "import pennylane as qml\n",
        "from pennylane import numpy as np"
      ],
      "metadata": {
        "id": "wElMnlYGcum0"
      },
      "execution_count": 3,
      "outputs": []
    },
    {
      "cell_type": "code",
      "source": [
        "# Definir el dispositivo con 3 qubits: s, a, b\n",
        "dev = qml.device(\"default.qubit\", wires=3)"
      ],
      "metadata": {
        "id": "d7wjUjAWcxCC"
      },
      "execution_count": 4,
      "outputs": []
    },
    {
      "cell_type": "code",
      "source": [
        "def create_bell_pair():\n",
        "    \"\"\"Función para crear un par de Bell entre los qubits a y b.\"\"\"\n",
        "    qml.Hadamard(wires=1)  # Aplicar Hadamard en el qubit de Alice\n",
        "    qml.CNOT(wires=[1, 2])  # Aplicar CNOT con Alice como control y Bob como target"
      ],
      "metadata": {
        "id": "BxcowTcKcyxr"
      },
      "execution_count": 5,
      "outputs": []
    },
    {
      "cell_type": "code",
      "source": [
        "def alice_gates():\n",
        "    \"\"\"Aplica las puertas de Alice necesarias para la teleportación.\"\"\"\n",
        "    create_bell_pair()  # Crear par de Bell\n",
        "    qml.Barrier(wires=[0, 1, 2])  # Esta línea es solo para seguir la estructura del ejercicio, pero `qml.Barrier` no es una función en PennyLane.\n",
        "    qml.CNOT(wires=[0, 1])  # Aplicar CNOT con el qubit fuente como control y Alice como target\n",
        "    qml.Hadamard(wires=0)  # Aplicar Hadamard al qubit fuente"
      ],
      "metadata": {
        "id": "Biwhzj7pc0i7"
      },
      "execution_count": 6,
      "outputs": []
    },
    {
      "cell_type": "code",
      "source": [
        "# Decorador para definir el QNode\n",
        "@qml.qnode(dev)\n",
        "def circuit():\n",
        "    alice_gates()\n",
        "    return qml.state()  # Retornar el estado cuántico del sistema"
      ],
      "metadata": {
        "id": "-eQ4DW4hc2tj"
      },
      "execution_count": 7,
      "outputs": []
    },
    {
      "cell_type": "code",
      "source": [
        "print(circuit())"
      ],
      "metadata": {
        "colab": {
          "base_uri": "https://localhost:8080/"
        },
        "id": "G16P6WsEc5Xj",
        "outputId": "6a9a9fb4-8a5b-4041-e25c-a3fb1a2e6ef2"
      },
      "execution_count": 8,
      "outputs": [
        {
          "output_type": "stream",
          "name": "stdout",
          "text": [
            "[0.5+0.j 0. +0.j 0. +0.j 0.5+0.j 0.5+0.j 0. +0.j 0. +0.j 0.5+0.j]\n"
          ]
        }
      ]
    }
  ]
}