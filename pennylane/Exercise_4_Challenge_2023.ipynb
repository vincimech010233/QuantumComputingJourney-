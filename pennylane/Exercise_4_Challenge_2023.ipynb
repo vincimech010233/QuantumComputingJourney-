{
  "nbformat": 4,
  "nbformat_minor": 0,
  "metadata": {
    "colab": {
      "provenance": [],
      "authorship_tag": "ABX9TyNuTAXbSi6p2THNHPcJkJEL",
      "include_colab_link": true
    },
    "kernelspec": {
      "name": "python3",
      "display_name": "Python 3"
    },
    "language_info": {
      "name": "python"
    }
  },
  "cells": [
    {
      "cell_type": "markdown",
      "metadata": {
        "id": "view-in-github",
        "colab_type": "text"
      },
      "source": [
        "<a href=\"https://colab.research.google.com/github/vincimech010233/QuantumComputingJourney-/blob/main/Exercise_4_Challenge_2023.ipynb\" target=\"_parent\"><img src=\"https://colab.research.google.com/assets/colab-badge.svg\" alt=\"Open In Colab\"/></a>"
      ]
    },
    {
      "cell_type": "code",
      "execution_count": 4,
      "metadata": {
        "id": "jGJwdf76XH8V"
      },
      "outputs": [],
      "source": [
        "!pip install pennylane"
      ]
    },
    {
      "cell_type": "code",
      "source": [
        "import pennylane as qml\n",
        "from pennylane import numpy as np"
      ],
      "metadata": {
        "id": "X9WZH04KZOFS"
      },
      "execution_count": 5,
      "outputs": []
    },
    {
      "cell_type": "code",
      "source": [
        "# Definimos el dispositivo\n",
        "num_qubits = 3\n",
        "dev = qml.device(\"default.qubit\", wires=num_qubits)\n",
        "\n",
        "def trial():\n",
        "    # Aplicar una puerta Hadamard a cada qubit\n",
        "    for i in range(num_qubits):\n",
        "        qml.Hadamard(wires=i)\n",
        "    # Retornar las probabilidades de los estados cuánticos\n",
        "    return qml.probs(wires=range(num_qubits))"
      ],
      "metadata": {
        "id": "ZnYjBAC_ZPXS"
      },
      "execution_count": 6,
      "outputs": []
    },
    {
      "cell_type": "code",
      "source": [
        "@qml.qnode(dev)\n",
        "def circuit():\n",
        "    return trial()"
      ],
      "metadata": {
        "id": "N3shZKlWZRdh"
      },
      "execution_count": 7,
      "outputs": []
    },
    {
      "cell_type": "code",
      "source": [
        "def reset_and_retry(max_trials=2):\n",
        "    for trial_number in range(max_trials):\n",
        "        # Ejecutar el circuito\n",
        "        probs = circuit()\n",
        "        # Chequear si el resultado es el deseado, aquí queremos el estado |000>\n",
        "        # Esto se basa en el mayor valor de probabilidad\n",
        "        if np.argmax(probs) == 0:\n",
        "            print(f\"Intento {trial_number+1}: Éxito, se obtuvo el resultado deseado.\")\n",
        "            return probs\n",
        "        else:\n",
        "            print(f\"Intento {trial_number+1}: No se obtuvo el resultado deseado, reintentando...\")\n",
        "    print(\"Se alcanzó el máximo de intentos sin éxito.\")\n",
        "    return probs"
      ],
      "metadata": {
        "id": "Ni7ohMnGYA50"
      },
      "execution_count": 8,
      "outputs": []
    },
    {
      "cell_type": "code",
      "source": [
        "# Ejecutamos la función de reseteo y reintento\n",
        "reset_and_retry(max_trials=2)"
      ],
      "metadata": {
        "colab": {
          "base_uri": "https://localhost:8080/"
        },
        "id": "p-5yauBZZs9T",
        "outputId": "64fe7169-f640-48ca-950e-8273ece9156b"
      },
      "execution_count": 9,
      "outputs": [
        {
          "output_type": "stream",
          "name": "stdout",
          "text": [
            "Intento 1: Éxito, se obtuvo el resultado deseado.\n"
          ]
        },
        {
          "output_type": "execute_result",
          "data": {
            "text/plain": [
              "tensor([0.125, 0.125, 0.125, 0.125, 0.125, 0.125, 0.125, 0.125], requires_grad=True)"
            ]
          },
          "metadata": {},
          "execution_count": 9
        }
      ]
    }
  ]
}