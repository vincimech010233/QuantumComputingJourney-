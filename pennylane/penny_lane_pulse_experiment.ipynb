{
  "nbformat": 4,
  "nbformat_minor": 0,
  "metadata": {
    "colab": {
      "provenance": [],
      "authorship_tag": "ABX9TyMjr2Sk9aONRpNWvNu1fFr0",
      "include_colab_link": true
    },
    "kernelspec": {
      "name": "python3",
      "display_name": "Python 3"
    },
    "language_info": {
      "name": "python"
    }
  },
  "cells": [
    {
      "cell_type": "markdown",
      "metadata": {
        "id": "view-in-github",
        "colab_type": "text"
      },
      "source": [
        "<a href=\"https://colab.research.google.com/github/vincimech010233/QuantumComputingJourney-/blob/main/penny_lane_pulse_experiment.ipynb\" target=\"_parent\"><img src=\"https://colab.research.google.com/assets/colab-badge.svg\" alt=\"Open In Colab\"/></a>"
      ]
    },
    {
      "cell_type": "code",
      "execution_count": null,
      "metadata": {
        "id": "b78IpFJ9UEQ1"
      },
      "outputs": [],
      "source": [
        "!pip install pennylane"
      ]
    },
    {
      "cell_type": "code",
      "source": [
        "import pennylane as qml\n",
        "from pennylane import numpy as np\n",
        "\n",
        "# Definir el dispositivo y el circuito\n",
        "num_qubits = 1\n",
        "dev = qml.device(\"default.qubit\", wires=num_qubits)\n",
        "\n",
        "@qml.qnode(dev)\n",
        "def circuit(parameters):\n",
        "    # Aplicar las compuertas necesarias\n",
        "    qml.RX(parameters[0], wires=0)\n",
        "    qml.RY(parameters[1], wires=0)\n",
        "    qml.RZ(parameters[2], wires=0)\n",
        "\n",
        "    # Realizar una medición\n",
        "    return qml.expval(qml.PauliZ(0))\n",
        "\n",
        "# Definir la función de costo\n",
        "def cost_function(parameters):\n",
        "    # Ejecutar el circuito y calcular la función de costo\n",
        "    expectation = circuit(parameters)\n",
        "    return (expectation - target_expectation)**2\n",
        "\n",
        "# Optimizar los parámetros\n",
        "opt = qml.GradientDescentOptimizer(0.01)\n",
        "parameters = np.array([0.0, 0.0, 0.0])  # Valores iniciales de los parámetros\n",
        "target_expectation = 1.0  # Valor deseado de la expectativa\n",
        "steps = 100  # Número de pasos de optimización\n",
        "\n",
        "for i in range(steps):\n",
        "    parameters = opt.step(cost_function, parameters)\n",
        "\n",
        "# Ejecutar el circuito con los parámetros optimizados y obtener la frecuencia de transición\n",
        "optimized_expectation = circuit(parameters)\n",
        "print(\"Expectation value after optimization:\", optimized_expectation)"
      ],
      "metadata": {
        "colab": {
          "base_uri": "https://localhost:8080/"
        },
        "id": "4DR9ZHbrUIQ0",
        "outputId": "22319d3a-577d-4706-df8b-c155ea4de3d5"
      },
      "execution_count": 2,
      "outputs": [
        {
          "output_type": "stream",
          "name": "stdout",
          "text": [
            "Expectation value after optimization: 1.0\n"
          ]
        }
      ]
    }
  ]
}