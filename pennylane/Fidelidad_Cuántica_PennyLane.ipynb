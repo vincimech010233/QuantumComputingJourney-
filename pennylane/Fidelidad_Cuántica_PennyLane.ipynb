{
  "nbformat": 4,
  "nbformat_minor": 0,
  "metadata": {
    "colab": {
      "provenance": [],
      "authorship_tag": "ABX9TyOUOXaKdjgWv2BRhvbuGoTu",
      "include_colab_link": true
    },
    "kernelspec": {
      "name": "python3",
      "display_name": "Python 3"
    },
    "language_info": {
      "name": "python"
    }
  },
  "cells": [
    {
      "cell_type": "markdown",
      "metadata": {
        "id": "view-in-github",
        "colab_type": "text"
      },
      "source": [
        "<a href=\"https://colab.research.google.com/github/vincimech010233/QuantumComputingJourney-/blob/main/Fidelidad_Cu%C3%A1ntica_PennyLane.ipynb\" target=\"_parent\"><img src=\"https://colab.research.google.com/assets/colab-badge.svg\" alt=\"Open In Colab\"/></a>"
      ]
    },
    {
      "cell_type": "code",
      "source": [
        "!pip install pennylane"
      ],
      "metadata": {
        "id": "3OgZn6kwi87M"
      },
      "execution_count": null,
      "outputs": []
    },
    {
      "cell_type": "code",
      "source": [
        "import pennylane as qml\n",
        "from pennylane import numpy as np"
      ],
      "metadata": {
        "id": "nSpYw3rki551"
      },
      "execution_count": 29,
      "outputs": []
    },
    {
      "cell_type": "code",
      "source": [
        "import pennylane as qml\n",
        "from pennylane import numpy as np\n",
        "\n",
        "# Definir el dispositivo\n",
        "num_qubits = 4\n",
        "dev = qml.device('default.qubit', wires=num_qubits)\n",
        "\n",
        "# Definir el circuito parametrizado para U\n",
        "def circuit_U(params):\n",
        "    qml.broadcast(qml.RX, wires=range(num_qubits), pattern=\"single\", parameters=params)\n",
        "    qml.broadcast(qml.CNOT, wires=range(num_qubits), pattern=\"ring\")\n",
        "\n",
        "# Definir el circuito parametrizado para V\n",
        "def circuit_V(params):\n",
        "    qml.broadcast(qml.RY, wires=range(num_qubits), pattern=\"single\", parameters=params)\n",
        "    qml.broadcast(qml.CZ, wires=range(num_qubits), pattern=\"ring\")\n",
        "\n",
        "# Combinar U y la inversa de V para estimar la fidelidad\n",
        "@qml.qnode(dev)\n",
        "def fidelity_circuit(params_u, params_v):\n",
        "    circuit_U(params_u)\n",
        "    qml.adjoint(circuit_V)(params_v)\n",
        "    return qml.probs(wires=range(num_qubits))\n",
        "\n",
        "# Parámetros de ejemplo\n",
        "params_u = np.random.random(num_qubits)\n",
        "params_v = np.random.random(num_qubits)\n",
        "\n",
        "# Calcular la fidelidad\n",
        "fidelity = fidelity_circuit(params_u, params_v)[0]  # La probabilidad del estado |0...0>\n",
        "print(\"Fidelidad estimada:\", fidelity)"
      ],
      "metadata": {
        "colab": {
          "base_uri": "https://localhost:8080/"
        },
        "id": "B8c3NZhVjCjc",
        "outputId": "04eb805e-af01-4393-a590-20bb6b15dccf"
      },
      "execution_count": 30,
      "outputs": [
        {
          "output_type": "stream",
          "name": "stdout",
          "text": [
            "Fidelidad estimada: 0.5669495882546006\n"
          ]
        }
      ]
    }
  ]
}