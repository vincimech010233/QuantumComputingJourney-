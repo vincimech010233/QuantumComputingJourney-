{
  "nbformat": 4,
  "nbformat_minor": 0,
  "metadata": {
    "colab": {
      "provenance": [],
      "authorship_tag": "ABX9TyNso/VYU+jeJT52qPijS0AI",
      "include_colab_link": true
    },
    "kernelspec": {
      "name": "python3",
      "display_name": "Python 3"
    },
    "language_info": {
      "name": "python"
    }
  },
  "cells": [
    {
      "cell_type": "markdown",
      "metadata": {
        "id": "view-in-github",
        "colab_type": "text"
      },
      "source": [
        "<a href=\"https://colab.research.google.com/github/vincimech010233/QuantumComputingJourney-/blob/main/pennylane_challenge_comparing_expectation_values.ipynb\" target=\"_parent\"><img src=\"https://colab.research.google.com/assets/colab-badge.svg\" alt=\"Open In Colab\"/></a>"
      ]
    },
    {
      "cell_type": "code",
      "execution_count": 2,
      "metadata": {
        "id": "kJijqa6xKHwC"
      },
      "outputs": [],
      "source": [
        "!pip install pennylane"
      ]
    },
    {
      "cell_type": "code",
      "source": [
        "import json\n",
        "import pennylane as qml\n",
        "import pennylane.numpy as np\n"
      ],
      "metadata": {
        "id": "IIQ2EkF2KmSD"
      },
      "execution_count": 3,
      "outputs": []
    },
    {
      "cell_type": "code",
      "source": [
        "dev = qml.device(\"default.qubit\", wires=1)"
      ],
      "metadata": {
        "id": "2VGSHqk6KpVb"
      },
      "execution_count": 4,
      "outputs": []
    },
    {
      "cell_type": "code",
      "source": [
        "@qml.qnode(dev)\n",
        "def circuit1(angles):\n",
        "    \"\"\"\n",
        "    A Qnode implementing the circuit shown in the top part of the image\n",
        "\n",
        "    Args:\n",
        "        angles (np.ndarray(float)): A list [theta_1, theta_2] of angle\n",
        "        parameters for the RX and RY gates respectively\n",
        "\n",
        "    Returns:\n",
        "        (np.tensor): The expectation value of the PauliX observable\n",
        "    \"\"\"\n",
        "\n",
        "\n",
        "    # Put your code here #\n",
        "    qml.RX(angles[0], wires=0)\n",
        "    qml.RY(angles[1], wires=0)\n",
        "    return qml.expval(qml.PauliX(0))\n",
        "    # Return the expectation value"
      ],
      "metadata": {
        "id": "AyQhCIkKKssz"
      },
      "execution_count": 5,
      "outputs": []
    },
    {
      "cell_type": "code",
      "source": [
        "@qml.qnode(dev)\n",
        "def circuit2(angles):\n",
        "    \"\"\"\n",
        "    A Qnode implementing the circuit shown in the bottom part of the image\n",
        "\n",
        "    Args:\n",
        "        angles (np.ndarray(float)): A list [theta_1, theta_2] of angle\n",
        "        parameters for the RX and RY gates respectively\n",
        "\n",
        "    Returns:\n",
        "        (np.tensor): The expectation value of the PauliX observable\n",
        "    \"\"\"\n",
        "\n",
        "\n",
        "    # Put your code here #\n",
        "    qml.RY(angles[1], wires=0)\n",
        "    qml.RX(angles[0], wires=0)\n",
        "    return qml.expval(qml.PauliX(0))\n",
        "    # Return the expectation value"
      ],
      "metadata": {
        "id": "w5A9U-BRKukT"
      },
      "execution_count": 6,
      "outputs": []
    },
    {
      "cell_type": "code",
      "source": [
        "def compare_circuits(angles):\n",
        "    \"\"\"\n",
        "    Given two angles, compare two circuit outputs that have their order of\n",
        "    operations flipped: RX then RY VERSUS RY then RX.\n",
        "\n",
        "    Args:\n",
        "        angles (np.ndarray(float)): An array of two angles [theta_1, theta_2]\n",
        "\n",
        "    Returns:\n",
        "        (float): The absolute value of the difference between the expectation\n",
        "        values of the circuits.\n",
        "    \"\"\"\n",
        "\n",
        "\n",
        "    # Put your code here #\n",
        "    output1 = circuit1(angles)\n",
        "    output2 = circuit2(angles)\n",
        "    return np.abs(output1 - output2)\n",
        "    # Return the required difference in expectation values"
      ],
      "metadata": {
        "id": "3uIUV3D-Kwbb"
      },
      "execution_count": 7,
      "outputs": []
    },
    {
      "cell_type": "code",
      "source": [
        "# These functions are responsible for testing the solution.\n",
        "def run(test_case_input: str) -> str:\n",
        "    ins = json.loads(test_case_input)\n",
        "    output = compare_circuits(ins)\n",
        "\n",
        "    return str(output)"
      ],
      "metadata": {
        "id": "wax5NZIQK2Ir"
      },
      "execution_count": 8,
      "outputs": []
    },
    {
      "cell_type": "code",
      "source": [
        "def check(solution_output: str, expected_output: str) -> None:\n",
        "    solution_output = json.loads(solution_output)\n",
        "    expected_output = json.loads(expected_output)\n",
        "    assert np.isclose(solution_output, expected_output, rtol=1e-4)"
      ],
      "metadata": {
        "id": "Tk2VaUp2K20j"
      },
      "execution_count": 9,
      "outputs": []
    },
    {
      "cell_type": "code",
      "source": [
        "# These are the public test cases\n",
        "test_cases = [\n",
        "    ('[3.79894785, 0.71678115]', '1.177019'),\n",
        "    ('[5.88344281, 0.30672784]', '0.023805')\n",
        "]"
      ],
      "metadata": {
        "id": "zOXS-sm4K6iz"
      },
      "execution_count": 10,
      "outputs": []
    },
    {
      "cell_type": "code",
      "source": [
        "# This will run the public test cases locally\n",
        "for i, (input_, expected_output) in enumerate(test_cases):\n",
        "    print(f\"Running test case {i} with input '{input_}'...\")\n",
        "\n",
        "    try:\n",
        "        output = run(input_)\n",
        "\n",
        "    except Exception as exc:\n",
        "        print(f\"Runtime Error. {exc}\")\n",
        "\n",
        "    else:\n",
        "        if message := check(output, expected_output):\n",
        "            print(f\"Wrong Answer. Have: '{output}'. Want: '{expected_output}'.\")\n",
        "\n",
        "        else:\n",
        "            print(\"Correct!\")"
      ],
      "metadata": {
        "colab": {
          "base_uri": "https://localhost:8080/"
        },
        "id": "iDvPiuXoK8PL",
        "outputId": "440d73e0-6f2f-4b6b-bf02-b48f93c5d72d"
      },
      "execution_count": 11,
      "outputs": [
        {
          "output_type": "stream",
          "name": "stdout",
          "text": [
            "Running test case 0 with input '[3.79894785, 0.71678115]'...\n",
            "Correct!\n",
            "Running test case 1 with input '[5.88344281, 0.30672784]'...\n",
            "Correct!\n"
          ]
        }
      ]
    }
  ]
}