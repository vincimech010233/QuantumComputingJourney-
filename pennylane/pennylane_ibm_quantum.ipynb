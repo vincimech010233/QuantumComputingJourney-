{
  "nbformat": 4,
  "nbformat_minor": 0,
  "metadata": {
    "colab": {
      "provenance": [],
      "authorship_tag": "ABX9TyOydRxL/rgQExiXZOWgu4mO",
      "include_colab_link": true
    },
    "kernelspec": {
      "name": "python3",
      "display_name": "Python 3"
    },
    "language_info": {
      "name": "python"
    }
  },
  "cells": [
    {
      "cell_type": "markdown",
      "metadata": {
        "id": "view-in-github",
        "colab_type": "text"
      },
      "source": [
        "<a href=\"https://colab.research.google.com/github/vincimech010233/QuantumComputingJourney-/blob/main/pennylane_ibm_quantum.ipynb\" target=\"_parent\"><img src=\"https://colab.research.google.com/assets/colab-badge.svg\" alt=\"Open In Colab\"/></a>"
      ]
    },
    {
      "cell_type": "code",
      "execution_count": null,
      "metadata": {
        "id": "q6lVhvDFZ6Yz"
      },
      "outputs": [],
      "source": [
        "!pip install pennylane pennylane-qiskit"
      ]
    },
    {
      "cell_type": "code",
      "source": [
        "import pennylane as qml\n",
        "from pennylane import numpy as np\n",
        "\n",
        "# Configura el dispositivo usando el plugin Qiskit\n",
        "# Aqui tu token de IBM Quantum real\n",
        "ibm_token = 'my_ibm_token'\n",
        "provider = 'ibm-q'\n",
        "qiskit.IBMQ.save_account(ibm_token, overwrite=True)\n",
        "qiskit.IBMQ.load_account()\n",
        "\n",
        "# Elegir un backend\n",
        "dev = qml.device('qiskit.ibmq', wires=2, backend='ibmq_qasm_simulator', provider=provider)"
      ],
      "metadata": {
        "id": "vu_oUGAHZ_gp"
      },
      "execution_count": null,
      "outputs": []
    },
    {
      "cell_type": "code",
      "source": [
        "# Circuito cuántico simple\n",
        "@qml.qnode(dev)\n",
        "def circuit(params):\n",
        "    qml.RX(params[0], wires=0)\n",
        "    qml.RY(params[1], wires=1)\n",
        "    qml.CNOT(wires=[0, 1])\n",
        "    return qml.expval(qml.PauliZ(0)), qml.expval(qml.PauliZ(1))\n",
        "\n",
        "# Ejecutar el circuito\n",
        "params = np.array([0.1, 0.2], requires_grad=True)\n",
        "print(circuit(params))\n"
      ],
      "metadata": {
        "id": "32Uc0ue9aVVB"
      },
      "execution_count": null,
      "outputs": []
    }
  ]
}