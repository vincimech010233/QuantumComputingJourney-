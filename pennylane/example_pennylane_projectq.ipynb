{
  "nbformat": 4,
  "nbformat_minor": 0,
  "metadata": {
    "colab": {
      "provenance": [],
      "authorship_tag": "ABX9TyPuN17P88unqJyu6npfDtOO",
      "include_colab_link": true
    },
    "kernelspec": {
      "name": "python3",
      "display_name": "Python 3"
    },
    "language_info": {
      "name": "python"
    }
  },
  "cells": [
    {
      "cell_type": "markdown",
      "metadata": {
        "id": "view-in-github",
        "colab_type": "text"
      },
      "source": [
        "<a href=\"https://colab.research.google.com/github/vincimech010233/QuantumComputingJourney-/blob/main/example_pennylane_projectq.ipynb\" target=\"_parent\"><img src=\"https://colab.research.google.com/assets/colab-badge.svg\" alt=\"Open In Colab\"/></a>"
      ]
    },
    {
      "cell_type": "code",
      "source": [
        "!pip install pennylane"
      ],
      "metadata": {
        "id": "odAL0sdg4Rk8"
      },
      "execution_count": 2,
      "outputs": []
    },
    {
      "cell_type": "code",
      "execution_count": 3,
      "metadata": {
        "colab": {
          "base_uri": "https://localhost:8080/"
        },
        "id": "ZLqmWAmz4LF5",
        "outputId": "926c0f3b-d839-4e16-ea04-b8ba5deb55a6"
      },
      "outputs": [
        {
          "output_type": "stream",
          "name": "stdout",
          "text": [
            "0.7071072502792264\n"
          ]
        }
      ],
      "source": [
        "import pennylane as qml\n",
        "\n",
        "# Crear un dispositivo cuántico con un solo qubit.\n",
        "dev = qml.device('default.qubit', wires=1)\n",
        "\n",
        "# Definir una función de circuito cuántico que aplica una rotación y luego medir el qubit.\n",
        "@qml.qnode(dev)\n",
        "def circuit(param):\n",
        "    qml.RX(param, wires=0)\n",
        "    return qml.expval(qml.PauliZ(0))\n",
        "\n",
        "# Ejecutar el circuito con un parámetro de rotación de pi/4.\n",
        "result = circuit(param=3.14159 / 4)\n",
        "print(result)\n"
      ]
    },
    {
      "cell_type": "code",
      "source": [
        "!pip install projectq"
      ],
      "metadata": {
        "id": "O6hi_EED4dR7"
      },
      "execution_count": 4,
      "outputs": []
    },
    {
      "cell_type": "code",
      "source": [
        "from projectq import MainEngine\n",
        "from projectq.ops import H, Measure\n",
        "\n",
        "# Crear un simulador cuántico principal.\n",
        "engine = MainEngine()\n",
        "\n",
        "# Crear un qubit.\n",
        "qubit = engine.allocate_qubit()\n",
        "\n",
        "# Aplicar la compuerta de Hadamard para poner el qubit en superposición.\n",
        "H | qubit\n",
        "\n",
        "# Medir el qubit.\n",
        "Measure | qubit\n",
        "\n",
        "# Ejecutar el circuito.\n",
        "engine.flush()\n",
        "\n",
        "# Imprimir el resultado de la medición.\n",
        "print(\"Measured:\", int(qubit))"
      ],
      "metadata": {
        "colab": {
          "base_uri": "https://localhost:8080/"
        },
        "id": "OAOZs_Fo4gSq",
        "outputId": "b8dffbf9-715b-4d82-a8ee-59a9c30141b8"
      },
      "execution_count": 5,
      "outputs": [
        {
          "output_type": "stream",
          "name": "stdout",
          "text": [
            "Measured: 1\n"
          ]
        }
      ]
    }
  ]
}