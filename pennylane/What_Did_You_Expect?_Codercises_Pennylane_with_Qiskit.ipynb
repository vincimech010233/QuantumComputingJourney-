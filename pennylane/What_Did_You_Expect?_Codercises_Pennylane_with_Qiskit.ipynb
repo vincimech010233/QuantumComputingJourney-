{
  "nbformat": 4,
  "nbformat_minor": 0,
  "metadata": {
    "colab": {
      "provenance": [],
      "authorship_tag": "ABX9TyPAZbobArSUyE6NizkqmqY3",
      "include_colab_link": true
    },
    "kernelspec": {
      "name": "python3",
      "display_name": "Python 3"
    },
    "language_info": {
      "name": "python"
    }
  },
  "cells": [
    {
      "cell_type": "markdown",
      "metadata": {
        "id": "view-in-github",
        "colab_type": "text"
      },
      "source": [
        "<a href=\"https://colab.research.google.com/github/vincimech010233/QuantumComputingJourney-/blob/main/What_Did_You_Expect%3F_Codercises_Pennylane_with_Qiskit.ipynb\" target=\"_parent\"><img src=\"https://colab.research.google.com/assets/colab-badge.svg\" alt=\"Open In Colab\"/></a>"
      ]
    },
    {
      "cell_type": "code",
      "execution_count": 1,
      "metadata": {
        "colab": {
          "base_uri": "https://localhost:8080/"
        },
        "collapsed": true,
        "id": "QYztN9FV7-n6",
        "outputId": "1c1346c1-7c47-4ccd-fca9-6d8d7c23b874"
      },
      "outputs": [
        {
          "output_type": "stream",
          "name": "stdout",
          "text": [
            "Collecting pennylane\n",
            "  Downloading PennyLane-0.36.0-py3-none-any.whl (1.7 MB)\n",
            "\u001b[2K     \u001b[90m━━━━━━━━━━━━━━━━━━━━━━━━━━━━━━━━━━━━━━━━\u001b[0m \u001b[32m1.7/1.7 MB\u001b[0m \u001b[31m10.0 MB/s\u001b[0m eta \u001b[36m0:00:00\u001b[0m\n",
            "\u001b[?25hCollecting qiskit\n",
            "  Downloading qiskit-1.1.0-cp38-abi3-manylinux_2_17_x86_64.manylinux2014_x86_64.whl (4.3 MB)\n",
            "\u001b[2K     \u001b[90m━━━━━━━━━━━━━━━━━━━━━━━━━━━━━━━━━━━━━━━━\u001b[0m \u001b[32m4.3/4.3 MB\u001b[0m \u001b[31m25.3 MB/s\u001b[0m eta \u001b[36m0:00:00\u001b[0m\n",
            "\u001b[?25hCollecting qiskit_aer\n",
            "  Downloading qiskit_aer-0.14.1-cp310-cp310-manylinux_2_17_x86_64.manylinux2014_x86_64.whl (12.3 MB)\n",
            "\u001b[2K     \u001b[90m━━━━━━━━━━━━━━━━━━━━━━━━━━━━━━━━━━━━━━━━\u001b[0m \u001b[32m12.3/12.3 MB\u001b[0m \u001b[31m23.7 MB/s\u001b[0m eta \u001b[36m0:00:00\u001b[0m\n",
            "\u001b[?25hCollecting pylatexenc\n",
            "  Downloading pylatexenc-2.10.tar.gz (162 kB)\n",
            "\u001b[2K     \u001b[90m━━━━━━━━━━━━━━━━━━━━━━━━━━━━━━━━━━━━━━━━\u001b[0m \u001b[32m162.6/162.6 kB\u001b[0m \u001b[31m6.9 MB/s\u001b[0m eta \u001b[36m0:00:00\u001b[0m\n",
            "\u001b[?25h  Preparing metadata (setup.py) ... \u001b[?25l\u001b[?25hdone\n",
            "Requirement already satisfied: numpy<2.0 in /usr/local/lib/python3.10/dist-packages (from pennylane) (1.25.2)\n",
            "Requirement already satisfied: scipy in /usr/local/lib/python3.10/dist-packages (from pennylane) (1.11.4)\n",
            "Requirement already satisfied: networkx in /usr/local/lib/python3.10/dist-packages (from pennylane) (3.3)\n",
            "Collecting rustworkx (from pennylane)\n",
            "  Downloading rustworkx-0.14.2-cp310-cp310-manylinux_2_17_x86_64.manylinux2014_x86_64.whl (2.1 MB)\n",
            "\u001b[2K     \u001b[90m━━━━━━━━━━━━━━━━━━━━━━━━━━━━━━━━━━━━━━━━\u001b[0m \u001b[32m2.1/2.1 MB\u001b[0m \u001b[31m21.8 MB/s\u001b[0m eta \u001b[36m0:00:00\u001b[0m\n",
            "\u001b[?25hRequirement already satisfied: autograd in /usr/local/lib/python3.10/dist-packages (from pennylane) (1.6.2)\n",
            "Requirement already satisfied: toml in /usr/local/lib/python3.10/dist-packages (from pennylane) (0.10.2)\n",
            "Requirement already satisfied: appdirs in /usr/local/lib/python3.10/dist-packages (from pennylane) (1.4.4)\n",
            "Collecting semantic-version>=2.7 (from pennylane)\n",
            "  Downloading semantic_version-2.10.0-py2.py3-none-any.whl (15 kB)\n",
            "Collecting autoray>=0.6.1 (from pennylane)\n",
            "  Downloading autoray-0.6.12-py3-none-any.whl (50 kB)\n",
            "\u001b[2K     \u001b[90m━━━━━━━━━━━━━━━━━━━━━━━━━━━━━━━━━━━━━━━━\u001b[0m \u001b[32m51.0/51.0 kB\u001b[0m \u001b[31m5.1 MB/s\u001b[0m eta \u001b[36m0:00:00\u001b[0m\n",
            "\u001b[?25hRequirement already satisfied: cachetools in /usr/local/lib/python3.10/dist-packages (from pennylane) (5.3.3)\n",
            "Collecting pennylane-lightning>=0.36 (from pennylane)\n",
            "  Downloading PennyLane_Lightning-0.36.0-cp310-cp310-manylinux_2_17_x86_64.manylinux2014_x86_64.whl (19.1 MB)\n",
            "\u001b[2K     \u001b[90m━━━━━━━━━━━━━━━━━━━━━━━━━━━━━━━━━━━━━━━━\u001b[0m \u001b[32m19.1/19.1 MB\u001b[0m \u001b[31m46.4 MB/s\u001b[0m eta \u001b[36m0:00:00\u001b[0m\n",
            "\u001b[?25hRequirement already satisfied: requests in /usr/local/lib/python3.10/dist-packages (from pennylane) (2.31.0)\n",
            "Requirement already satisfied: typing-extensions in /usr/local/lib/python3.10/dist-packages (from pennylane) (4.11.0)\n",
            "Requirement already satisfied: sympy>=1.3 in /usr/local/lib/python3.10/dist-packages (from qiskit) (1.12)\n",
            "Collecting dill>=0.3 (from qiskit)\n",
            "  Downloading dill-0.3.8-py3-none-any.whl (116 kB)\n",
            "\u001b[2K     \u001b[90m━━━━━━━━━━━━━━━━━━━━━━━━━━━━━━━━━━━━━━━━\u001b[0m \u001b[32m116.3/116.3 kB\u001b[0m \u001b[31m12.4 MB/s\u001b[0m eta \u001b[36m0:00:00\u001b[0m\n",
            "\u001b[?25hRequirement already satisfied: python-dateutil>=2.8.0 in /usr/local/lib/python3.10/dist-packages (from qiskit) (2.8.2)\n",
            "Collecting stevedore>=3.0.0 (from qiskit)\n",
            "  Downloading stevedore-5.2.0-py3-none-any.whl (49 kB)\n",
            "\u001b[2K     \u001b[90m━━━━━━━━━━━━━━━━━━━━━━━━━━━━━━━━━━━━━━━━\u001b[0m \u001b[32m49.7/49.7 kB\u001b[0m \u001b[31m4.2 MB/s\u001b[0m eta \u001b[36m0:00:00\u001b[0m\n",
            "\u001b[?25hCollecting symengine>=0.11 (from qiskit)\n",
            "  Downloading symengine-0.11.0-cp310-cp310-manylinux_2_12_x86_64.manylinux2010_x86_64.whl (39.4 MB)\n",
            "\u001b[2K     \u001b[90m━━━━━━━━━━━━━━━━━━━━━━━━━━━━━━━━━━━━━━━━\u001b[0m \u001b[32m39.4/39.4 MB\u001b[0m \u001b[31m12.5 MB/s\u001b[0m eta \u001b[36m0:00:00\u001b[0m\n",
            "\u001b[?25hRequirement already satisfied: psutil>=5 in /usr/local/lib/python3.10/dist-packages (from qiskit_aer) (5.9.5)\n",
            "Requirement already satisfied: six>=1.5 in /usr/local/lib/python3.10/dist-packages (from python-dateutil>=2.8.0->qiskit) (1.16.0)\n",
            "Collecting pbr!=2.1.0,>=2.0.0 (from stevedore>=3.0.0->qiskit)\n",
            "  Downloading pbr-6.0.0-py2.py3-none-any.whl (107 kB)\n",
            "\u001b[2K     \u001b[90m━━━━━━━━━━━━━━━━━━━━━━━━━━━━━━━━━━━━━━━━\u001b[0m \u001b[32m107.5/107.5 kB\u001b[0m \u001b[31m9.8 MB/s\u001b[0m eta \u001b[36m0:00:00\u001b[0m\n",
            "\u001b[?25hRequirement already satisfied: mpmath>=0.19 in /usr/local/lib/python3.10/dist-packages (from sympy>=1.3->qiskit) (1.3.0)\n",
            "Requirement already satisfied: future>=0.15.2 in /usr/local/lib/python3.10/dist-packages (from autograd->pennylane) (0.18.3)\n",
            "Requirement already satisfied: charset-normalizer<4,>=2 in /usr/local/lib/python3.10/dist-packages (from requests->pennylane) (3.3.2)\n",
            "Requirement already satisfied: idna<4,>=2.5 in /usr/local/lib/python3.10/dist-packages (from requests->pennylane) (3.7)\n",
            "Requirement already satisfied: urllib3<3,>=1.21.1 in /usr/local/lib/python3.10/dist-packages (from requests->pennylane) (2.0.7)\n",
            "Requirement already satisfied: certifi>=2017.4.17 in /usr/local/lib/python3.10/dist-packages (from requests->pennylane) (2024.2.2)\n",
            "Building wheels for collected packages: pylatexenc\n",
            "  Building wheel for pylatexenc (setup.py) ... \u001b[?25l\u001b[?25hdone\n",
            "  Created wheel for pylatexenc: filename=pylatexenc-2.10-py3-none-any.whl size=136816 sha256=983533dd4b36e5856db98592bb5e05c0985210e24a5b2be594713bf3cd4c21a3\n",
            "  Stored in directory: /root/.cache/pip/wheels/d3/31/8b/e09b0386afd80cfc556c00408c9aeea5c35c4d484a9c762fd5\n",
            "Successfully built pylatexenc\n",
            "Installing collected packages: pylatexenc, symengine, semantic-version, rustworkx, pbr, dill, autoray, stevedore, qiskit, qiskit_aer, pennylane-lightning, pennylane\n",
            "Successfully installed autoray-0.6.12 dill-0.3.8 pbr-6.0.0 pennylane-0.36.0 pennylane-lightning-0.36.0 pylatexenc-2.10 qiskit-1.1.0 qiskit_aer-0.14.1 rustworkx-0.14.2 semantic-version-2.10.0 stevedore-5.2.0 symengine-0.11.0\n"
          ]
        }
      ],
      "source": [
        "!pip install pennylane qiskit qiskit_aer pylatexenc"
      ]
    },
    {
      "cell_type": "code",
      "source": [
        "from qiskit import QuantumCircuit, transpile, assemble\n",
        "from qiskit_aer import AerSimulator\n",
        "from qiskit.visualization import plot_histogram\n",
        "import numpy as np\n",
        "import matplotlib.pyplot as plt\n",
        "\n",
        "\n",
        "qc = QuantumCircuit(1, 1)\n",
        "\n",
        "qc.rx(np.pi/4, 0)\n",
        "\n",
        "qc.h(0)\n",
        "\n",
        "qc.z(0)\n",
        "\n",
        "qc.sdg(0)\n",
        "qc.h(0)\n",
        "\n",
        "qc.measure(0, 0)\n",
        "\n",
        "simulator = AerSimulator()\n",
        "\n",
        "compiled_qc = transpile(qc, simulator)\n",
        "\n",
        "result = simulator.run(compiled_qc, shots=1024).result()\n",
        "\n",
        "counts = result.get_counts(compiled_qc)\n",
        "print(f\"Resultados de la medición: {counts}\")\n",
        "\n",
        "expectation_value = (counts.get('0', 0) - counts.get('1', 0)) / 1024\n",
        "print(f\"Valor esperado de Pauli-Y: {expectation_value}\")"
      ],
      "metadata": {
        "colab": {
          "base_uri": "https://localhost:8080/"
        },
        "id": "yfMX6DHN8ZoQ",
        "outputId": "bdae86b2-0f7e-4f79-af13-6875fe93fb2c"
      },
      "execution_count": 10,
      "outputs": [
        {
          "output_type": "stream",
          "name": "stdout",
          "text": [
            "Resultados de la medición: {'0': 155, '1': 869}\n",
            "Valor esperado de Pauli-Y: -0.697265625\n"
          ]
        }
      ]
    },
    {
      "cell_type": "code",
      "source": [
        "shot_values = [100, 1000, 10000, 100000, 1000000]\n",
        "\n",
        "shot_results = []\n",
        "\n",
        "def prepare_psi(qc):\n",
        "    qc.rx(np.pi / 4, 0)\n",
        "\n",
        "def y_basis_rotation(qc):\n",
        "    qc.h(0)\n",
        "    qc.s(0)\n",
        "\n",
        "def measure_in_y_basis(shots):\n",
        "    qc = QuantumCircuit(1, 1)\n",
        "\n",
        "    prepare_psi(qc)\n",
        "\n",
        "    qc.sdg(0)\n",
        "    qc.h(0)\n",
        "\n",
        "    qc.measure(0, 0)\n",
        "\n",
        "    simulator = AerSimulator()\n",
        "\n",
        "    compiled_qc = transpile(qc, simulator)\n",
        "\n",
        "    result = simulator.run(compiled_qc, shots=shots).result()\n",
        "\n",
        "    counts = result.get_counts(compiled_qc)\n",
        "\n",
        "    expectation_value = (counts.get('0', 0) - counts.get('1', 0)) / shots\n",
        "\n",
        "    return expectation_value\n",
        "\n",
        "for shots in shot_values:\n",
        "    result = measure_in_y_basis(shots)\n",
        "    shot_results.append(result)\n",
        "\n",
        "print(shot_results)"
      ],
      "metadata": {
        "colab": {
          "base_uri": "https://localhost:8080/"
        },
        "id": "eXq3fdSG9YEw",
        "outputId": "078b52c6-8f17-426b-ce33-6f47cdf8cccc"
      },
      "execution_count": 13,
      "outputs": [
        {
          "output_type": "stream",
          "name": "stdout",
          "text": [
            "[-0.76, -0.702, -0.712, -0.70824, -0.708216]\n"
          ]
        }
      ]
    },
    {
      "cell_type": "code",
      "source": [
        "from qiskit import QuantumCircuit, transpile, assemble\n",
        "from qiskit_aer import AerSimulator\n",
        "import numpy as np\n",
        "\n",
        "qc = QuantumCircuit(1, 1)\n",
        "\n",
        "qc.rx(np.pi / 4, 0)\n",
        "\n",
        "qc.h(0)\n",
        "\n",
        "qc.z(0)\n",
        "\n",
        "qc.sdg(0)\n",
        "qc.h(0)\n",
        "\n",
        "qc.measure(0, 0)\n",
        "\n",
        "simulator = AerSimulator()\n",
        "\n",
        "compiled_qc = transpile(qc, simulator)\n",
        "\n",
        "result = simulator.run(compiled_qc, shots=100000).result()\n",
        "\n",
        "counts = result.get_counts(compiled_qc)\n",
        "\n",
        "samples = []\n",
        "for state, count in counts.items():\n",
        "    value = 1 if state == '0' else -1\n",
        "    samples.extend([value] * count)\n",
        "samples = np.array(samples)\n",
        "\n",
        "def compute_expval_from_samples(samples):\n",
        "    estimated_expval = np.mean(samples)\n",
        "    return estimated_expval\n",
        "\n",
        "estimated_expval = compute_expval_from_samples(samples)\n",
        "print(f\"Valor esperado de Pauli-Y: {estimated_expval}\")"
      ],
      "metadata": {
        "colab": {
          "base_uri": "https://localhost:8080/"
        },
        "id": "wmzWbjd0-WBI",
        "outputId": "85f6e201-464f-4aa1-c26d-09b3fdb9904b"
      },
      "execution_count": 16,
      "outputs": [
        {
          "output_type": "stream",
          "name": "stdout",
          "text": [
            "Valor esperado de Pauli-Y: -0.70704\n"
          ]
        }
      ]
    },
    {
      "cell_type": "code",
      "source": [
        "def variance_experiment(n_shots):\n",
        "    \"\"\"Run an experiment to determine the variance in an expectation\n",
        "    value computed with a given number of shots.\n",
        "\n",
        "    Args:\n",
        "        n_shots (int): The number of shots\n",
        "\n",
        "    Returns:\n",
        "        float: The variance in expectation value we obtain running the\n",
        "        circuit 100 times with n_shots shots each.\n",
        "    \"\"\"\n",
        "\n",
        "    n_trials = 100\n",
        "\n",
        "    qc = QuantumCircuit(1, 1)\n",
        "    qc.h(0)\n",
        "    qc.measure(0, 0)\n",
        "\n",
        "    simulator = AerSimulator()\n",
        "\n",
        "    compiled_qc = transpile(qc, simulator)\n",
        "\n",
        "    results = []\n",
        "    for _ in range(n_trials):\n",
        "        result = simulator.run(compiled_qc, shots=n_shots).result()\n",
        "        counts = result.get_counts(compiled_qc)\n",
        "        expval = (counts.get('0', 0) - counts.get('1', 0)) / n_shots\n",
        "        results.append(expval)\n",
        "\n",
        "    return np.var(results)\n",
        "\n",
        "def variance_scaling(n_shots):\n",
        "    \"\"\"Once you have determined how the variance in expectation value scales\n",
        "    with the number of shots, complete this function to programmatically\n",
        "    represent the relationship.\n",
        "\n",
        "    Args:\n",
        "        n_shots (int): The number of shots\n",
        "\n",
        "    Returns:\n",
        "        float: The variance in expectation value we expect to see when we run\n",
        "        an experiment with n_shots shots.\n",
        "    \"\"\"\n",
        "    return 1 / n_shots\n",
        "\n",
        "shot_vals = [10, 20, 40, 100, 200, 400, 1000, 2000, 4000]\n",
        "\n",
        "results_experiment = [variance_experiment(shots) for shots in shot_vals]\n",
        "results_scaling = [variance_scaling(shots) for shots in shot_vals]\n",
        "\n",
        "plt.plot(shot_vals, results_experiment, 'o-', label='Experimental Variance')\n",
        "plt.plot(shot_vals, results_scaling, 'x-', label='Theoretical Variance')\n",
        "plt.xlabel('Number of Shots')\n",
        "plt.ylabel('Variance')\n",
        "plt.legend()\n",
        "plt.xscale('log')\n",
        "plt.yscale('log')\n",
        "plt.show()"
      ],
      "metadata": {
        "colab": {
          "base_uri": "https://localhost:8080/",
          "height": 454
        },
        "id": "IzlVpypS_FcZ",
        "outputId": "6027d9a9-41d6-41ac-a593-56d5411203b5"
      },
      "execution_count": 19,
      "outputs": [
        {
          "output_type": "display_data",
          "data": {
            "text/plain": [
              "<Figure size 640x480 with 1 Axes>"
            ],
            "image/png": "[encoded data removed]"
          },
          "metadata": {}
        }
      ]
    }
  ]
}