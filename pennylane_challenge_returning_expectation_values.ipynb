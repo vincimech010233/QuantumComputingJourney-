{
  "nbformat": 4,
  "nbformat_minor": 0,
  "metadata": {
    "colab": {
      "provenance": [],
      "authorship_tag": "ABX9TyPVgh1Cf5JEcOriPWtYzP2u",
      "include_colab_link": true
    },
    "kernelspec": {
      "name": "python3",
      "display_name": "Python 3"
    },
    "language_info": {
      "name": "python"
    }
  },
  "cells": [
    {
      "cell_type": "markdown",
      "metadata": {
        "id": "view-in-github",
        "colab_type": "text"
      },
      "source": [
        "<a href=\"https://colab.research.google.com/github/vincimech010233/QuantumComputingJourney-/blob/main/pennylane_challenge_returning_expectation_values.ipynb\" target=\"_parent\"><img src=\"https://colab.research.google.com/assets/colab-badge.svg\" alt=\"Open In Colab\"/></a>"
      ]
    },
    {
      "cell_type": "code",
      "execution_count": null,
      "metadata": {
        "id": "E8Uy11hHMRsr"
      },
      "outputs": [],
      "source": [
        "!pip install pennylane"
      ]
    },
    {
      "cell_type": "code",
      "source": [
        "import json\n",
        "import pennylane as qml\n",
        "import pennylane.numpy as np"
      ],
      "metadata": {
        "id": "fAhjFtAFM4kj"
      },
      "execution_count": 2,
      "outputs": []
    },
    {
      "cell_type": "code",
      "source": [
        "# Step 1: initialize a device\n",
        "num_wires = 1\n",
        "dev = qml.device('default.qubit', wires=num_wires)"
      ],
      "metadata": {
        "id": "B24xi-y3M797"
      },
      "execution_count": 3,
      "outputs": []
    },
    {
      "cell_type": "code",
      "source": [
        "# Step 2: Add a decorator below\n",
        "@qml.qnode(dev)\n",
        "\n",
        "def simple_circuit(angle):\n",
        "\n",
        "    \"\"\"\n",
        "    In this function:\n",
        "        * Rotate the qubit around the y-axis by angle\n",
        "        * Measure the expectation value of the Pauli X observable\n",
        "\n",
        "    Args:\n",
        "        angle (float): how much to rotate a state around the y-axis\n",
        "\n",
        "    Returns:\n",
        "        Union[tensor, float]: The expectation value of the Pauli X observable\n",
        "    \"\"\"\n",
        "\n",
        "\n",
        "\n",
        "    # Step 3: Add gates to the QNode\n",
        "\n",
        "    # Put your code here #\n",
        "    qml.RY(angle, wires=0)\n",
        "\n",
        "    # Step 4: Return the required expectation value\n",
        "    return qml.expval(qml.PauliX(0))"
      ],
      "metadata": {
        "id": "iLqedH8kM_Iz"
      },
      "execution_count": 4,
      "outputs": []
    },
    {
      "cell_type": "code",
      "source": [
        "# These functions are responsible for testing the solution.\n",
        "def run(test_case_input: str) -> str:\n",
        "    angle = json.loads(test_case_input)\n",
        "    output = simple_circuit(angle).numpy()\n",
        "\n",
        "    return str(output)\n",
        "\n",
        "def check(solution_output: str, expected_output: str) -> None:\n",
        "    solution_output = json.loads(solution_output)\n",
        "    expected_output = json.loads(expected_output)\n",
        "    assert np.allclose(solution_output, expected_output, rtol=1e-4)"
      ],
      "metadata": {
        "id": "3pkMQB7-NDNz"
      },
      "execution_count": 5,
      "outputs": []
    },
    {
      "cell_type": "code",
      "source": [
        "# These are the public test cases\n",
        "test_cases = [\n",
        "    ('1.23456', '0.9440031218347901'),\n",
        "    ('2.957', '0.1835461227247332')\n",
        "]"
      ],
      "metadata": {
        "id": "yPPL3o1FNFxz"
      },
      "execution_count": 6,
      "outputs": []
    },
    {
      "cell_type": "code",
      "source": [
        "# This will run the public test cases locally\n",
        "for i, (input_, expected_output) in enumerate(test_cases):\n",
        "    print(f\"Running test case {i} with input '{input_}'...\")\n",
        "\n",
        "    try:\n",
        "        output = run(input_)\n",
        "\n",
        "    except Exception as exc:\n",
        "        print(f\"Runtime Error. {exc}\")\n",
        "\n",
        "    else:\n",
        "        if message := check(output, expected_output):\n",
        "            print(f\"Wrong Answer. Have: '{output}'. Want: '{expected_output}'.\")\n",
        "\n",
        "        else:\n",
        "            print(\"Correct!\")"
      ],
      "metadata": {
        "colab": {
          "base_uri": "https://localhost:8080/"
        },
        "id": "HewsJyQVNHNj",
        "outputId": "65ec986c-c239-4176-f16d-aa16e8e15836"
      },
      "execution_count": 7,
      "outputs": [
        {
          "output_type": "stream",
          "name": "stdout",
          "text": [
            "Running test case 0 with input '1.23456'...\n",
            "Correct!\n",
            "Running test case 1 with input '2.957'...\n",
            "Correct!\n"
          ]
        }
      ]
    }
  ]
}