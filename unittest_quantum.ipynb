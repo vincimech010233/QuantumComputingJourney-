{
  "nbformat": 4,
  "nbformat_minor": 0,
  "metadata": {
    "colab": {
      "provenance": [],
      "authorship_tag": "ABX9TyNu75p+5dWns1RpSyGJFnOj",
      "include_colab_link": true
    },
    "kernelspec": {
      "name": "python3",
      "display_name": "Python 3"
    },
    "language_info": {
      "name": "python"
    }
  },
  "cells": [
    {
      "cell_type": "markdown",
      "metadata": {
        "id": "view-in-github",
        "colab_type": "text"
      },
      "source": [
        "<a href=\"https://colab.research.google.com/github/vincimech010233/QuantumComputingJourney-/blob/main/unittest_quantum.ipynb\" target=\"_parent\"><img src=\"https://colab.research.google.com/assets/colab-badge.svg\" alt=\"Open In Colab\"/></a>"
      ]
    },
    {
      "cell_type": "code",
      "execution_count": null,
      "metadata": {
        "id": "D_Kt27w-ykhq"
      },
      "outputs": [],
      "source": [
        "!pip install qiskit"
      ]
    },
    {
      "cell_type": "code",
      "source": [
        "from qiskit import QuantumCircuit\n",
        "from qiskit.quantum_info import Statevector\n",
        "import unittest\n",
        "\n",
        "# Definir la función que queremos probar\n",
        "def create_superposition_state():\n",
        "    circuit = QuantumCircuit(1)\n",
        "    circuit.h(0)  # Aplicar la puerta Hadamard para crear superposición\n",
        "    return circuit\n"
      ],
      "metadata": {
        "id": "Z2JDvGgtyldQ"
      },
      "execution_count": 4,
      "outputs": []
    },
    {
      "cell_type": "code",
      "source": [
        "# Clase para las pruebas unitarias\n",
        "class TestQuantumCircuit(unittest.TestCase):\n",
        "    def test_superposition_state(self):\n",
        "        circuit = create_superposition_state()\n",
        "        state = Statevector.from_instruction(circuit)\n",
        "        # Verificar que los coeficientes de amplitud sean iguales (superposición)\n",
        "        self.assertAlmostEqual(state[0], 1 / (2**0.5))\n",
        "        self.assertAlmostEqual(state[1], 1 / (2**0.5))"
      ],
      "metadata": {
        "id": "kQCtSansza3g"
      },
      "execution_count": 5,
      "outputs": []
    },
    {
      "cell_type": "code",
      "source": [
        "# Ejecutar las pruebas\n",
        "suite = unittest.TestLoader().loadTestsFromTestCase(TestQuantumCircuit)\n",
        "result = unittest.TextTestRunner(verbosity=2).run(suite)\n",
        "\n",
        "# Imprimir un mensaje personalizado en caso de error\n",
        "if result.wasSuccessful():\n",
        "    print(\"¡Todas las pruebas pasaron exitosamente!\")\n",
        "else:\n",
        "    print(f\"Hubo problemas: {result.failures + result.errors} pruebas fallaron o tuvieron errores.\")"
      ],
      "metadata": {
        "colab": {
          "base_uri": "https://localhost:8080/"
        },
        "id": "cpgKSQXezdkR",
        "outputId": "0eb8fc53-652f-4bd9-855f-993343ec359b"
      },
      "execution_count": 7,
      "outputs": [
        {
          "output_type": "stream",
          "name": "stderr",
          "text": [
            "test_superposition_state (__main__.TestQuantumCircuit) ... ok\n",
            "\n",
            "----------------------------------------------------------------------\n",
            "Ran 1 test in 0.010s\n",
            "\n",
            "OK\n"
          ]
        },
        {
          "output_type": "stream",
          "name": "stdout",
          "text": [
            "¡Todas las pruebas pasaron exitosamente!\n"
          ]
        }
      ]
    }
  ]
}