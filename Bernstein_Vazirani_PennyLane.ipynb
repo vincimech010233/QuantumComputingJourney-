{
  "nbformat": 4,
  "nbformat_minor": 0,
  "metadata": {
    "colab": {
      "provenance": [],
      "authorship_tag": "ABX9TyPPWyY3refBtLLumoOm2j/K",
      "include_colab_link": true
    },
    "kernelspec": {
      "name": "python3",
      "display_name": "Python 3"
    },
    "language_info": {
      "name": "python"
    }
  },
  "cells": [
    {
      "cell_type": "markdown",
      "metadata": {
        "id": "view-in-github",
        "colab_type": "text"
      },
      "source": [
        "<a href=\"https://colab.research.google.com/github/vincimech010233/QuantumComputingJourney-/blob/main/Bernstein_Vazirani_PennyLane.ipynb\" target=\"_parent\"><img src=\"https://colab.research.google.com/assets/colab-badge.svg\" alt=\"Open In Colab\"/></a>"
      ]
    },
    {
      "cell_type": "code",
      "execution_count": null,
      "metadata": {
        "id": "QAUoVy1B21Y7"
      },
      "outputs": [],
      "source": [
        "!pip install pennylane"
      ]
    },
    {
      "cell_type": "code",
      "source": [
        "import pennylane as qml\n",
        "from pennylane import numpy as np\n",
        "\n",
        "def bernstein_vazirani_circuit(hidden_string):\n",
        "    # Length of the hidden string\n",
        "    n = len(hidden_string)\n",
        "\n",
        "    # Initialize a quantum device with n qubits + 1 auxiliary qubit\n",
        "    # Specify a finite number of shots for sampling\n",
        "    dev = qml.device('default.qubit', wires=n+1, shots=1024)\n",
        "\n",
        "    @qml.qnode(dev)\n",
        "    def circuit():\n",
        "        # Apply Hadamard gates to all qubits except the last one (auxiliary qubit)\n",
        "        for i in range(n):\n",
        "            qml.Hadamard(wires=i)\n",
        "\n",
        "        # Apply the Pauli X and Hadamard gate to the auxiliary qubit to shift its phase\n",
        "        qml.PauliX(wires=n)\n",
        "        qml.Hadamard(wires=n)\n",
        "\n",
        "        # Apply the oracle\n",
        "        for i, bit in enumerate(hidden_string):\n",
        "            if bit == '1':\n",
        "                qml.CNOT(wires=[i, n])\n",
        "\n",
        "        # Apply Hadamard gates to all qubits except the last one again\n",
        "        for i in range(n):\n",
        "            qml.Hadamard(wires=i)\n",
        "\n",
        "        # Measure the first n qubits\n",
        "        return qml.sample(wires=range(n))\n",
        "\n",
        "    return circuit()\n",
        "\n",
        "# Example usage\n",
        "hidden_string = \"101\"\n",
        "samples = bernstein_vazirani_circuit(hidden_string)\n",
        "\n",
        "# Analyze the samples\n",
        "# Since this is a deterministic algorithm, we expect all samples to be the same.\n",
        "# We can just look at the first sample to find the hidden string.\n",
        "measured_string = ''.join(str(s) for s in samples[0])\n",
        "print(\"Measured string:\", measured_string)\n"
      ],
      "metadata": {
        "colab": {
          "base_uri": "https://localhost:8080/"
        },
        "id": "6JyA93O72-eP",
        "outputId": "66bcb9df-5765-4dfa-a19e-ddf9831b92cd"
      },
      "execution_count": 8,
      "outputs": [
        {
          "output_type": "stream",
          "name": "stdout",
          "text": [
            "Measured string: 101\n"
          ]
        }
      ]
    }
  ]
}