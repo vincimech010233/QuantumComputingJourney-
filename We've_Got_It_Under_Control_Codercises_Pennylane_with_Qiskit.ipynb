{
  "nbformat": 4,
  "nbformat_minor": 0,
  "metadata": {
    "colab": {
      "provenance": [],
      "authorship_tag": "ABX9TyNs5T4YKJ1qUj18zrxzHfR8",
      "include_colab_link": true
    },
    "kernelspec": {
      "name": "python3",
      "display_name": "Python 3"
    },
    "language_info": {
      "name": "python"
    }
  },
  "cells": [
    {
      "cell_type": "markdown",
      "metadata": {
        "id": "view-in-github",
        "colab_type": "text"
      },
      "source": [
        "<a href=\"https://colab.research.google.com/github/vincimech010233/QuantumComputingJourney-/blob/main/We've_Got_It_Under_Control_Codercises_Pennylane_with_Qiskit.ipynb\" target=\"_parent\"><img src=\"https://colab.research.google.com/assets/colab-badge.svg\" alt=\"Open In Colab\"/></a>"
      ]
    },
    {
      "cell_type": "code",
      "execution_count": 1,
      "metadata": {
        "colab": {
          "base_uri": "https://localhost:8080/"
        },
        "collapsed": true,
        "id": "TntA8ev55O17",
        "outputId": "193ffc30-c0bc-4878-8fc3-7cea0fefd53e"
      },
      "outputs": [
        {
          "output_type": "stream",
          "name": "stdout",
          "text": [
            "Collecting pennylane\n",
            "  Downloading PennyLane-0.36.0-py3-none-any.whl (1.7 MB)\n",
            "\u001b[2K     \u001b[90m━━━━━━━━━━━━━━━━━━━━━━━━━━━━━━━━━━━━━━━━\u001b[0m \u001b[32m1.7/1.7 MB\u001b[0m \u001b[31m14.7 MB/s\u001b[0m eta \u001b[36m0:00:00\u001b[0m\n",
            "\u001b[?25hCollecting qiskit\n",
            "  Downloading qiskit-1.1.0-cp38-abi3-manylinux_2_17_x86_64.manylinux2014_x86_64.whl (4.3 MB)\n",
            "\u001b[2K     \u001b[90m━━━━━━━━━━━━━━━━━━━━━━━━━━━━━━━━━━━━━━━━\u001b[0m \u001b[32m4.3/4.3 MB\u001b[0m \u001b[31m28.0 MB/s\u001b[0m eta \u001b[36m0:00:00\u001b[0m\n",
            "\u001b[?25hCollecting qiskit_aer\n",
            "  Downloading qiskit_aer-0.14.1-cp310-cp310-manylinux_2_17_x86_64.manylinux2014_x86_64.whl (12.3 MB)\n",
            "\u001b[2K     \u001b[90m━━━━━━━━━━━━━━━━━━━━━━━━━━━━━━━━━━━━━━━━\u001b[0m \u001b[32m12.3/12.3 MB\u001b[0m \u001b[31m18.6 MB/s\u001b[0m eta \u001b[36m0:00:00\u001b[0m\n",
            "\u001b[?25hCollecting pylatexenc\n",
            "  Downloading pylatexenc-2.10.tar.gz (162 kB)\n",
            "\u001b[2K     \u001b[90m━━━━━━━━━━━━━━━━━━━━━━━━━━━━━━━━━━━━━━━━\u001b[0m \u001b[32m162.6/162.6 kB\u001b[0m \u001b[31m11.4 MB/s\u001b[0m eta \u001b[36m0:00:00\u001b[0m\n",
            "\u001b[?25h  Preparing metadata (setup.py) ... \u001b[?25l\u001b[?25hdone\n",
            "Requirement already satisfied: numpy<2.0 in /usr/local/lib/python3.10/dist-packages (from pennylane) (1.25.2)\n",
            "Requirement already satisfied: scipy in /usr/local/lib/python3.10/dist-packages (from pennylane) (1.11.4)\n",
            "Requirement already satisfied: networkx in /usr/local/lib/python3.10/dist-packages (from pennylane) (3.3)\n",
            "Collecting rustworkx (from pennylane)\n",
            "  Downloading rustworkx-0.14.2-cp310-cp310-manylinux_2_17_x86_64.manylinux2014_x86_64.whl (2.1 MB)\n",
            "\u001b[2K     \u001b[90m━━━━━━━━━━━━━━━━━━━━━━━━━━━━━━━━━━━━━━━━\u001b[0m \u001b[32m2.1/2.1 MB\u001b[0m \u001b[31m47.2 MB/s\u001b[0m eta \u001b[36m0:00:00\u001b[0m\n",
            "\u001b[?25hRequirement already satisfied: autograd in /usr/local/lib/python3.10/dist-packages (from pennylane) (1.6.2)\n",
            "Requirement already satisfied: toml in /usr/local/lib/python3.10/dist-packages (from pennylane) (0.10.2)\n",
            "Collecting appdirs (from pennylane)\n",
            "  Downloading appdirs-1.4.4-py2.py3-none-any.whl (9.6 kB)\n",
            "Collecting semantic-version>=2.7 (from pennylane)\n",
            "  Downloading semantic_version-2.10.0-py2.py3-none-any.whl (15 kB)\n",
            "Collecting autoray>=0.6.1 (from pennylane)\n",
            "  Downloading autoray-0.6.12-py3-none-any.whl (50 kB)\n",
            "\u001b[2K     \u001b[90m━━━━━━━━━━━━━━━━━━━━━━━━━━━━━━━━━━━━━━━━\u001b[0m \u001b[32m51.0/51.0 kB\u001b[0m \u001b[31m4.5 MB/s\u001b[0m eta \u001b[36m0:00:00\u001b[0m\n",
            "\u001b[?25hRequirement already satisfied: cachetools in /usr/local/lib/python3.10/dist-packages (from pennylane) (5.3.3)\n",
            "Collecting pennylane-lightning>=0.36 (from pennylane)\n",
            "  Downloading PennyLane_Lightning-0.36.0-cp310-cp310-manylinux_2_17_x86_64.manylinux2014_x86_64.whl (19.1 MB)\n",
            "\u001b[2K     \u001b[90m━━━━━━━━━━━━━━━━━━━━━━━━━━━━━━━━━━━━━━━━\u001b[0m \u001b[32m19.1/19.1 MB\u001b[0m \u001b[31m40.6 MB/s\u001b[0m eta \u001b[36m0:00:00\u001b[0m\n",
            "\u001b[?25hRequirement already satisfied: requests in /usr/local/lib/python3.10/dist-packages (from pennylane) (2.31.0)\n",
            "Requirement already satisfied: typing-extensions in /usr/local/lib/python3.10/dist-packages (from pennylane) (4.11.0)\n",
            "Requirement already satisfied: sympy>=1.3 in /usr/local/lib/python3.10/dist-packages (from qiskit) (1.12)\n",
            "Collecting dill>=0.3 (from qiskit)\n",
            "  Downloading dill-0.3.8-py3-none-any.whl (116 kB)\n",
            "\u001b[2K     \u001b[90m━━━━━━━━━━━━━━━━━━━━━━━━━━━━━━━━━━━━━━━━\u001b[0m \u001b[32m116.3/116.3 kB\u001b[0m \u001b[31m10.5 MB/s\u001b[0m eta \u001b[36m0:00:00\u001b[0m\n",
            "\u001b[?25hRequirement already satisfied: python-dateutil>=2.8.0 in /usr/local/lib/python3.10/dist-packages (from qiskit) (2.8.2)\n",
            "Collecting stevedore>=3.0.0 (from qiskit)\n",
            "  Downloading stevedore-5.2.0-py3-none-any.whl (49 kB)\n",
            "\u001b[2K     \u001b[90m━━━━━━━━━━━━━━━━━━━━━━━━━━━━━━━━━━━━━━━━\u001b[0m \u001b[32m49.7/49.7 kB\u001b[0m \u001b[31m3.4 MB/s\u001b[0m eta \u001b[36m0:00:00\u001b[0m\n",
            "\u001b[?25hCollecting symengine>=0.11 (from qiskit)\n",
            "  Downloading symengine-0.11.0-cp310-cp310-manylinux_2_12_x86_64.manylinux2010_x86_64.whl (39.4 MB)\n",
            "\u001b[2K     \u001b[90m━━━━━━━━━━━━━━━━━━━━━━━━━━━━━━━━━━━━━━━━\u001b[0m \u001b[32m39.4/39.4 MB\u001b[0m \u001b[31m16.7 MB/s\u001b[0m eta \u001b[36m0:00:00\u001b[0m\n",
            "\u001b[?25hRequirement already satisfied: psutil>=5 in /usr/local/lib/python3.10/dist-packages (from qiskit_aer) (5.9.5)\n",
            "Requirement already satisfied: six>=1.5 in /usr/local/lib/python3.10/dist-packages (from python-dateutil>=2.8.0->qiskit) (1.16.0)\n",
            "Collecting pbr!=2.1.0,>=2.0.0 (from stevedore>=3.0.0->qiskit)\n",
            "  Downloading pbr-6.0.0-py2.py3-none-any.whl (107 kB)\n",
            "\u001b[2K     \u001b[90m━━━━━━━━━━━━━━━━━━━━━━━━━━━━━━━━━━━━━━━━\u001b[0m \u001b[32m107.5/107.5 kB\u001b[0m \u001b[31m9.4 MB/s\u001b[0m eta \u001b[36m0:00:00\u001b[0m\n",
            "\u001b[?25hRequirement already satisfied: mpmath>=0.19 in /usr/local/lib/python3.10/dist-packages (from sympy>=1.3->qiskit) (1.3.0)\n",
            "Requirement already satisfied: future>=0.15.2 in /usr/local/lib/python3.10/dist-packages (from autograd->pennylane) (0.18.3)\n",
            "Requirement already satisfied: charset-normalizer<4,>=2 in /usr/local/lib/python3.10/dist-packages (from requests->pennylane) (3.3.2)\n",
            "Requirement already satisfied: idna<4,>=2.5 in /usr/local/lib/python3.10/dist-packages (from requests->pennylane) (3.7)\n",
            "Requirement already satisfied: urllib3<3,>=1.21.1 in /usr/local/lib/python3.10/dist-packages (from requests->pennylane) (2.0.7)\n",
            "Requirement already satisfied: certifi>=2017.4.17 in /usr/local/lib/python3.10/dist-packages (from requests->pennylane) (2024.2.2)\n",
            "Building wheels for collected packages: pylatexenc\n",
            "  Building wheel for pylatexenc (setup.py) ... \u001b[?25l\u001b[?25hdone\n",
            "  Created wheel for pylatexenc: filename=pylatexenc-2.10-py3-none-any.whl size=136816 sha256=2da276f28def9b655c72b4c7d3b0dfb98d48a90a712ff835e121d0a1668b0453\n",
            "  Stored in directory: /root/.cache/pip/wheels/d3/31/8b/e09b0386afd80cfc556c00408c9aeea5c35c4d484a9c762fd5\n",
            "Successfully built pylatexenc\n",
            "Installing collected packages: pylatexenc, appdirs, symengine, semantic-version, rustworkx, pbr, dill, autoray, stevedore, qiskit, qiskit_aer, pennylane-lightning, pennylane\n",
            "Successfully installed appdirs-1.4.4 autoray-0.6.12 dill-0.3.8 pbr-6.0.0 pennylane-0.36.0 pennylane-lightning-0.36.0 pylatexenc-2.10 qiskit-1.1.0 qiskit_aer-0.14.1 rustworkx-0.14.2 semantic-version-2.10.0 stevedore-5.2.0 symengine-0.11.0\n"
          ]
        }
      ],
      "source": [
        "!pip install pennylane qiskit qiskit_aer pylatexenc"
      ]
    },
    {
      "cell_type": "code",
      "source": [
        "from qiskit import QuantumCircuit, transpile\n",
        "from qiskit_aer import AerSimulator\n",
        "from qiskit.quantum_info import Statevector\n",
        "\n",
        "def prepare_psi_plus():\n",
        "    qc = QuantumCircuit(2)\n",
        "    qc.h(0)\n",
        "    qc.cx(0, 1)\n",
        "    qc.save_statevector()\n",
        "    simulator = AerSimulator()\n",
        "    compiled_qc = transpile(qc, simulator)\n",
        "    result = simulator.run(compiled_qc).result()\n",
        "    statevector = result.get_statevector(compiled_qc)\n",
        "    return statevector\n",
        "\n",
        "def prepare_psi_minus():\n",
        "    qc = QuantumCircuit(2)\n",
        "    qc.x(0)\n",
        "    qc.h(0)\n",
        "    qc.cx(0, 1)\n",
        "    qc.z(0)\n",
        "    qc.save_statevector()\n",
        "    simulator = AerSimulator()\n",
        "    compiled_qc = transpile(qc, simulator)\n",
        "    result = simulator.run(compiled_qc).result()\n",
        "    statevector = result.get_statevector(compiled_qc)\n",
        "    return statevector\n",
        "\n",
        "def prepare_phi_plus():\n",
        "    qc = QuantumCircuit(2)\n",
        "    qc.x(0)\n",
        "    qc.h(1)\n",
        "    qc.cx(1, 0)\n",
        "    qc.save_statevector()\n",
        "    simulator = AerSimulator()\n",
        "    compiled_qc = transpile(qc, simulator)\n",
        "    result = simulator.run(compiled_qc).result()\n",
        "    statevector = result.get_statevector(compiled_qc)\n",
        "    return statevector\n",
        "\n",
        "def prepare_phi_minus():\n",
        "    qc = QuantumCircuit(2)\n",
        "    qc.x(1)\n",
        "    qc.h(1)\n",
        "    qc.x(0)\n",
        "    qc.x(1)\n",
        "    qc.cx(1, 0)\n",
        "    qc.z(1)\n",
        "    qc.save_statevector()\n",
        "    simulator = AerSimulator()\n",
        "    compiled_qc = transpile(qc, simulator)\n",
        "    result = simulator.run(compiled_qc).result()\n",
        "    statevector = result.get_statevector(compiled_qc)\n",
        "    return statevector\n",
        "\n",
        "psi_plus = prepare_psi_plus()\n",
        "psi_minus = prepare_psi_minus()\n",
        "phi_plus = prepare_phi_plus()\n",
        "phi_minus = prepare_phi_minus()\n",
        "\n",
        "print(f\"|ψ_+> = {psi_plus}\")\n",
        "print(f\"|ψ_-> = {psi_minus}\")\n",
        "print(f\"|ϕ_+> = {phi_plus}\")\n",
        "print(f\"|ϕ_-> = {phi_minus}\")"
      ],
      "metadata": {
        "colab": {
          "base_uri": "https://localhost:8080/"
        },
        "id": "gLii9Dwp53Zh",
        "outputId": "91b63786-0ca3-4e3f-deb0-a5e1ff52cea2"
      },
      "execution_count": 7,
      "outputs": [
        {
          "output_type": "stream",
          "name": "stdout",
          "text": [
            "|ψ_+> = Statevector([0.70710678+0.j, 0.        +0.j, 0.        +0.j,\n",
            "             0.70710678+0.j],\n",
            "            dims=(2, 2))\n",
            "|ψ_-> = Statevector([ 0.70710678-8.65956056e-17j, -0.        +0.00000000e+00j,\n",
            "              0.        +0.00000000e+00j,  0.70710678-8.65956056e-17j],\n",
            "            dims=(2, 2))\n",
            "|ϕ_+> = Statevector([0.        +0.j, 0.70710678+0.j, 0.70710678+0.j,\n",
            "             0.        +0.j],\n",
            "            dims=(2, 2))\n",
            "|ϕ_-> = Statevector([ 0.        +0.00000000e+00j, -0.70710678+8.65956056e-17j,\n",
            "             -0.70710678+8.65956056e-17j, -0.        +0.00000000e+00j],\n",
            "            dims=(2, 2))\n"
          ]
        }
      ]
    },
    {
      "cell_type": "code",
      "source": [
        "from qiskit import QuantumCircuit, transpile\n",
        "from qiskit_aer import AerSimulator\n",
        "from qiskit.quantum_info import Statevector\n",
        "\n",
        "def apply_control_sequence(state):\n",
        "    qc = QuantumCircuit(3)\n",
        "\n",
        "    if state[0] == 1:\n",
        "        qc.x(0)\n",
        "    if state[1] == 1:\n",
        "        qc.x(1)\n",
        "\n",
        "    qc.x(2)\n",
        "    qc.h(2)\n",
        "\n",
        "    qc.x(0)\n",
        "    qc.ccx(0, 1, 2)\n",
        "    qc.x(0)\n",
        "    qc.x(1)\n",
        "    qc.h(2)\n",
        "    qc.ccx(0, 1, 2)\n",
        "    qc.x(1)\n",
        "    qc.h(2)\n",
        "    qc.sdg(2)\n",
        "    qc.ccx(0, 1, 2)\n",
        "    qc.s(2)\n",
        "\n",
        "    qc.save_statevector()\n",
        "\n",
        "    simulator = AerSimulator()\n",
        "    compiled_qc = transpile(qc, simulator)\n",
        "    result = simulator.run(compiled_qc).result()\n",
        "    statevector = result.get_statevector(compiled_qc)\n",
        "\n",
        "    return statevector\n",
        "\n",
        "state = [0, 1]\n",
        "\n",
        "result = apply_control_sequence(state)\n",
        "print(result)"
      ],
      "metadata": {
        "colab": {
          "base_uri": "https://localhost:8080/"
        },
        "id": "2jVS7oaT7oZn",
        "outputId": "ce02deca-7919-40b0-97f4-3f0b01efd6a9"
      },
      "execution_count": 9,
      "outputs": [
        {
          "output_type": "stream",
          "name": "stdout",
          "text": [
            "Statevector([ 0.        +0.00000000e+00j,  0.        +0.00000000e+00j,\n",
            "             -0.70710678+1.73191211e-16j,  0.        -0.00000000e+00j,\n",
            "              0.        +0.00000000e+00j,  0.        +0.00000000e+00j,\n",
            "              0.70710678-2.59786817e-16j, -0.        +0.00000000e+00j],\n",
            "            dims=(2, 2, 2))\n"
          ]
        }
      ]
    }
  ]
}