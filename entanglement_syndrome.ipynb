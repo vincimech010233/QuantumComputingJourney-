{
  "nbformat": 4,
  "nbformat_minor": 0,
  "metadata": {
    "colab": {
      "provenance": [],
      "authorship_tag": "ABX9TyM1LdRAVKkZU1MugScDlc+V",
      "include_colab_link": true
    },
    "kernelspec": {
      "name": "python3",
      "display_name": "Python 3"
    },
    "language_info": {
      "name": "python"
    }
  },
  "cells": [
    {
      "cell_type": "markdown",
      "metadata": {
        "id": "view-in-github",
        "colab_type": "text"
      },
      "source": [
        "<a href=\"https://colab.research.google.com/github/vincimech010233/QuantumComputingJourney-/blob/main/entanglement_syndrome.ipynb\" target=\"_parent\"><img src=\"https://colab.research.google.com/assets/colab-badge.svg\" alt=\"Open In Colab\"/></a>"
      ]
    },
    {
      "cell_type": "code",
      "execution_count": null,
      "metadata": {
        "id": "i9rEViFRSGjG"
      },
      "outputs": [],
      "source": [
        "!pip install pennylane"
      ]
    },
    {
      "cell_type": "code",
      "source": [
        "import pennylane as qml\n",
        "\n",
        "# Define el número de qubits y el dispositivo\n",
        "num_qubits = 6  # 2 para el código, 4 para el síndrome\n",
        "dev = qml.device(\"default.qubit\", wires=num_qubits)\n",
        "\n",
        "# Define el circuito de inicialización\n",
        "@qml.qnode(dev)\n",
        "def qc_init():\n",
        "    # Preparar los qubits en un estado entrelazado\n",
        "    qml.Hadamard(wires=0)\n",
        "    qml.CNOT(wires=[0, 1])\n",
        "    return qml.probs(wires=[0, 1])\n",
        "\n",
        "# Define el circuito de medición del síndrome\n",
        "@qml.qnode(dev)\n",
        "def qc_syn():\n",
        "    # Aplicar compuertas de entrelazamiento\n",
        "    qml.CNOT(wires=[0, 2])\n",
        "    qml.CNOT(wires=[1, 3])\n",
        "    qml.CNOT(wires=[0, 4])\n",
        "    qml.CNOT(wires=[1, 5])\n",
        "    # Medir los qubits de síndrome\n",
        "    return qml.probs(wires=[2, 3, 4, 5])"
      ],
      "metadata": {
        "id": "tAFDJSFnSJQV"
      },
      "execution_count": 8,
      "outputs": []
    },
    {
      "cell_type": "code",
      "source": [
        "# Ejecutar el circuito de inicialización\n",
        "probs_init = qc_init()\n",
        "print(\"Probabilidades del estado inicial:\", probs_init)\n",
        "\n",
        "# Ejecutar el circuito de medición del síndrome\n",
        "probs_syn = qc_syn()\n",
        "print(\"Probabilidades del síndrome:\", probs_syn)"
      ],
      "metadata": {
        "colab": {
          "base_uri": "https://localhost:8080/"
        },
        "id": "H2UtK1gETYBN",
        "outputId": "1b1d1fff-9dce-411e-f8c3-16ddc0c8d742"
      },
      "execution_count": 9,
      "outputs": [
        {
          "output_type": "stream",
          "name": "stdout",
          "text": [
            "Probabilidades del estado inicial: [0.5 0.  0.  0.5]\n",
            "Probabilidades del síndrome: [1. 0. 0. 0. 0. 0. 0. 0. 0. 0. 0. 0. 0. 0. 0. 0.]\n"
          ]
        }
      ]
    }
  ]
}