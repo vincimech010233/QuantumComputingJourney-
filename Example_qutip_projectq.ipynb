{
  "nbformat": 4,
  "nbformat_minor": 0,
  "metadata": {
    "colab": {
      "provenance": [],
      "authorship_tag": "ABX9TyOWkIuQELJ8CqoCTHb+rgWF",
      "include_colab_link": true
    },
    "kernelspec": {
      "name": "python3",
      "display_name": "Python 3"
    },
    "language_info": {
      "name": "python"
    }
  },
  "cells": [
    {
      "cell_type": "markdown",
      "metadata": {
        "id": "view-in-github",
        "colab_type": "text"
      },
      "source": [
        "<a href=\"https://colab.research.google.com/github/vincimech010233/QuantumComputingJourney-/blob/main/Example_qutip_projectq.ipynb\" target=\"_parent\"><img src=\"https://colab.research.google.com/assets/colab-badge.svg\" alt=\"Open In Colab\"/></a>"
      ]
    },
    {
      "cell_type": "code",
      "execution_count": null,
      "metadata": {
        "id": "1umuK92aFAUb"
      },
      "outputs": [],
      "source": [
        "!pip install qutip\n",
        "!pip install projectq"
      ]
    },
    {
      "cell_type": "code",
      "source": [
        "from qutip import *\n",
        "\n",
        "# Crear un estado cuántico base |0>\n",
        "qubit_state = basis(2, 0)\n",
        "\n",
        "# Aplicar una operación de NOT cuántico (X gate) al estado |0>\n",
        "not_gate = sigmax()\n",
        "result_state = not_gate * qubit_state\n",
        "\n",
        "print(\"Estado original |0>:\", qubit_state)\n",
        "print(\"Estado después de aplicar X gate:\", result_state)"
      ],
      "metadata": {
        "colab": {
          "base_uri": "https://localhost:8080/"
        },
        "id": "ABqbFO-MFFwc",
        "outputId": "1731a486-46e9-4f31-8b37-3895ee326bf5"
      },
      "execution_count": 2,
      "outputs": [
        {
          "output_type": "stream",
          "name": "stdout",
          "text": [
            "Estado original |0>: Quantum object: dims=[[2], [1]], shape=(2, 1), type='ket', dtype=Dense\n",
            "Qobj data =\n",
            "[[1.]\n",
            " [0.]]\n",
            "Estado después de aplicar X gate: Quantum object: dims=[[2], [1]], shape=(2, 1), type='ket', dtype=Dense\n",
            "Qobj data =\n",
            "[[0.]\n",
            " [1.]]\n"
          ]
        }
      ]
    },
    {
      "cell_type": "code",
      "source": [
        "from projectq import MainEngine  # Importa el motor principal de ProjectQ\n",
        "from projectq.ops import H, CNOT, Measure\n",
        "# Inicia el motor cuántico\n",
        "engine = MainEngine()\n",
        "\n",
        "# Crea dos qubits\n",
        "qubit1 = engine.allocate_qubit()\n",
        "qubit2 = engine.allocate_qubit()\n",
        "\n",
        "# Aplica la puerta Hadamard al primer qubit\n",
        "H | qubit1[0]\n",
        "\n",
        "# Entrelaza el primer qubit con el segundo usando una puerta CNOT\n",
        "CNOT | (qubit1[0], qubit2[0])\n",
        "\n",
        "# Mide ambos qubits\n",
        "Measure | qubit1[0]\n",
        "Measure | qubit2[0]\n",
        "\n",
        "engine.flush()  # Envía todas las operaciones pendientes para su ejecución\n",
        "\n",
        "# Imprime los resultados de la medición\n",
        "print(\"Resultado de la medición del qubit 1:\", int(qubit1[0]))\n",
        "print(\"Resultado de la medición del qubit 2:\", int(qubit2[0]))"
      ],
      "metadata": {
        "colab": {
          "base_uri": "https://localhost:8080/"
        },
        "id": "5jJ4X5wuFIJP",
        "outputId": "0ba7331f-99a4-4cbd-faf0-f8b9783c4690"
      },
      "execution_count": 3,
      "outputs": [
        {
          "output_type": "stream",
          "name": "stdout",
          "text": [
            "Resultado de la medición del qubit 1: 0\n",
            "Resultado de la medición del qubit 2: 0\n"
          ]
        }
      ]
    }
  ]
}