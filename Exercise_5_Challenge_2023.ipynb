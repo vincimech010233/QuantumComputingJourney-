{
  "nbformat": 4,
  "nbformat_minor": 0,
  "metadata": {
    "colab": {
      "provenance": [],
      "authorship_tag": "ABX9TyPlcX0Q+Ep5CK+F9d9N3F0u",
      "include_colab_link": true
    },
    "kernelspec": {
      "name": "python3",
      "display_name": "Python 3"
    },
    "language_info": {
      "name": "python"
    }
  },
  "cells": [
    {
      "cell_type": "markdown",
      "metadata": {
        "id": "view-in-github",
        "colab_type": "text"
      },
      "source": [
        "<a href=\"https://colab.research.google.com/github/vincimech010233/QuantumComputingJourney-/blob/main/Exercise_5_Challenge_2023.ipynb\" target=\"_parent\"><img src=\"https://colab.research.google.com/assets/colab-badge.svg\" alt=\"Open In Colab\"/></a>"
      ]
    },
    {
      "cell_type": "code",
      "execution_count": null,
      "metadata": {
        "id": "JyvlKCgqafRL"
      },
      "outputs": [],
      "source": [
        "!pip install pennylane"
      ]
    },
    {
      "cell_type": "code",
      "source": [
        "import pennylane as qml\n",
        "from pennylane import numpy as np\n",
        "\n",
        "# Define el dispositivo con 2 qubits (Alice y Bob)\n",
        "dev = qml.device(\"default.qubit\", wires=2)\n",
        "\n",
        "# Define el circuito cuántico para generar el par de Bell\n",
        "def bell_pair_circuit():\n",
        "    qml.Hadamard(wires=0)  # Aplica una puerta Hadamard al qubit de Alice\n",
        "    qml.CNOT(wires=[0, 1])  # Aplica una puerta CNOT con Alice como control y Bob como objetivo\n",
        "\n",
        "# Usa qml.draw para crear una función que dibuja el circuito\n",
        "drawn_circuit = qml.draw(bell_pair_circuit)\n",
        "\n",
        "print(drawn_circuit())\n"
      ],
      "metadata": {
        "colab": {
          "base_uri": "https://localhost:8080/"
        },
        "id": "G6cnaVHvak0p",
        "outputId": "4e0f39fd-b0df-4740-8afb-95a66965bc5e"
      },
      "execution_count": 5,
      "outputs": [
        {
          "output_type": "stream",
          "name": "stdout",
          "text": [
            "0: ──H─╭●─┤  \n",
            "1: ────╰X─┤  \n"
          ]
        }
      ]
    }
  ]
}