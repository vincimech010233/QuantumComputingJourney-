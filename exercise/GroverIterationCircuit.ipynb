{
  "nbformat": 4,
  "nbformat_minor": 0,
  "metadata": {
    "colab": {
      "provenance": [],
      "authorship_tag": "ABX9TyOoQD5BPTQAu7gngRZL52Xn",
      "include_colab_link": true
    },
    "kernelspec": {
      "name": "python3",
      "display_name": "Python 3"
    },
    "language_info": {
      "name": "python"
    }
  },
  "cells": [
    {
      "cell_type": "markdown",
      "metadata": {
        "id": "view-in-github",
        "colab_type": "text"
      },
      "source": [
        "<a href=\"https://colab.research.google.com/github/vincimech010233/QuantumComputingJourney-/blob/main/GroverIterationCircuit.ipynb\" target=\"_parent\"><img src=\"https://colab.research.google.com/assets/colab-badge.svg\" alt=\"Open In Colab\"/></a>"
      ]
    },
    {
      "cell_type": "code",
      "execution_count": null,
      "metadata": {
        "id": "AdGpdTtLwr9x"
      },
      "outputs": [],
      "source": [
        "!pip install pennylane"
      ]
    },
    {
      "cell_type": "code",
      "source": [
        "import pennylane as qml\n",
        "from pennylane import numpy as np"
      ],
      "metadata": {
        "id": "m5b4vRJswtkn"
      },
      "execution_count": 3,
      "outputs": []
    },
    {
      "cell_type": "code",
      "source": [
        "dev = qml.device('default.qubit', wires=3)"
      ],
      "metadata": {
        "id": "kQh9mvC3xDR6"
      },
      "execution_count": 4,
      "outputs": []
    },
    {
      "cell_type": "code",
      "source": [
        "@qml.qnode(dev)\n",
        "def grover_circuit(params):\n",
        "    # Preparación del estado inicial\n",
        "    for wire in range(3):\n",
        "        qml.Hadamard(wires=wire)\n",
        "\n",
        "    qml.MultiControlledX(control_wires=[0, 1], wires=2, control_values='11')\n",
        "    for wire in range(3):\n",
        "        qml.Hadamard(wires=wire)\n",
        "        qml.PauliX(wires=wire)\n",
        "    qml.MultiControlledX(control_wires=[0, 1], wires=2, control_values='11')\n",
        "    for wire in range(3):\n",
        "        qml.PauliX(wires=wire)\n",
        "        qml.Hadamard(wires=wire)\n",
        "\n",
        "    return qml.probs(wires=[0, 1, 2])"
      ],
      "metadata": {
        "id": "sWcZEnFnxHIs"
      },
      "execution_count": 5,
      "outputs": []
    },
    {
      "cell_type": "code",
      "source": [
        "params = np.array([0.1], requires_grad=True)  # Ejemplo de parámetros, ajustar según sea necesario\n",
        "result = grover_circuit(params)\n",
        "print(\"Probabilidades del estado cuántico:\", result)"
      ],
      "metadata": {
        "colab": {
          "base_uri": "https://localhost:8080/"
        },
        "id": "PqKOP2cwxMmW",
        "outputId": "e3a2fca9-f65b-467d-ff88-5ee17879da1b"
      },
      "execution_count": 6,
      "outputs": [
        {
          "output_type": "stream",
          "name": "stdout",
          "text": [
            "Probabilidades del estado cuántico: [0.125 0.125 0.125 0.125 0.125 0.125 0.125 0.125]\n"
          ]
        },
        {
          "output_type": "stream",
          "name": "stderr",
          "text": [
            "/usr/local/lib/python3.10/dist-packages/pennylane/ops/op_math/controlled_ops.py:1046: UserWarning: The control_wires keyword will be removed soon. Use wires = (control_wires, target_wire) instead. See the documentation for more information.\n",
            "  warnings.warn(\n"
          ]
        }
      ]
    }
  ]
}