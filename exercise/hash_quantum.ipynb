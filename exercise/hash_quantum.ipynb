{
  "nbformat": 4,
  "nbformat_minor": 0,
  "metadata": {
    "colab": {
      "provenance": [],
      "authorship_tag": "ABX9TyPp+BfQCGErIzOYUow/B9ei",
      "include_colab_link": true
    },
    "kernelspec": {
      "name": "python3",
      "display_name": "Python 3"
    },
    "language_info": {
      "name": "python"
    }
  },
  "cells": [
    {
      "cell_type": "markdown",
      "metadata": {
        "id": "view-in-github",
        "colab_type": "text"
      },
      "source": [
        "<a href=\"https://colab.research.google.com/github/vincimech010233/QuantumComputingJourney-/blob/main/hash_quantum.ipynb\" target=\"_parent\"><img src=\"https://colab.research.google.com/assets/colab-badge.svg\" alt=\"Open In Colab\"/></a>"
      ]
    },
    {
      "cell_type": "code",
      "execution_count": null,
      "metadata": {
        "id": "p5CCY7F3C_On"
      },
      "outputs": [],
      "source": [
        "!pip install qiskit\n",
        "!pip install qiskit-aer"
      ]
    },
    {
      "cell_type": "code",
      "source": [
        "import hashlib\n",
        "import time\n",
        "from qiskit import Aer, QuantumCircuit\n",
        "from qiskit.circuit.library import GroverOperator\n",
        "from qiskit.algorithms import AmplificationProblem, Grover\n",
        "from qiskit.utils import QuantumInstance\n",
        "\n",
        "# Función para generar hashes\n",
        "def generate_hashes(num_hashes):\n",
        "    hashes = []\n",
        "    for i in range(num_hashes):\n",
        "        hash_object = hashlib.sha256(str(i).encode())\n",
        "        hex_dig = hash_object.hexdigest()\n",
        "        hashes.append(hex_dig)\n",
        "    return hashes\n",
        "\n",
        "# Función de búsqueda clásica\n",
        "def classical_search(hash_list, target):\n",
        "    start_time = time.time()\n",
        "    for i, h in enumerate(hash_list):\n",
        "        if h == target:\n",
        "            end_time = time.time()\n",
        "            return i, end_time - start_time\n",
        "    end_time = time.time()\n",
        "    return -1, end_time - start_time\n",
        "\n",
        "# Preparación de la búsqueda cuántica\n",
        "def quantum_search(hash_list, target_index):\n",
        "    start_time = time.time()\n",
        "\n",
        "    # Crear un circuito cuántico simple\n",
        "    qc = QuantumCircuit(3)  # Ajustar el número de qubits según sea necesario\n",
        "\n",
        "    # Definir qué constituye un \"estado bueno\"\n",
        "    def is_good_state(bitstr):\n",
        "        return bitstr == format(target_index, f'0{qc.num_qubits}b')\n",
        "\n",
        "    # Añadir el operador de Grover\n",
        "    grover_operator = GroverOperator(oracle=qc)\n",
        "\n",
        "    # Crear el problema de amplificación y el algoritmo de Grover\n",
        "    problem = AmplificationProblem(oracle=qc, is_good_state=is_good_state, grover_operator=grover_operator)\n",
        "    backend = Aer.get_backend('qasm_simulator')\n",
        "    quantum_instance = QuantumInstance(backend)\n",
        "    grover = Grover(quantum_instance=quantum_instance)\n",
        "    result = grover.amplify(problem)\n",
        "\n",
        "    end_time = time.time()\n",
        "    return result, end_time - start_time\n",
        "\n",
        "# Generar hashes y elegir un objetivo\n",
        "hash_list = generate_hashes(100000)\n",
        "target_index = 87099\n",
        "target_hash = hash_list[target_index]\n"
      ],
      "metadata": {
        "id": "aI6HtIg0DRUE"
      },
      "execution_count": null,
      "outputs": []
    },
    {
      "cell_type": "code",
      "source": [
        "# Búsqueda clásica\n",
        "index_classical, time_classical = classical_search(hash_list, target_hash)\n",
        "print(\"Índice encontrado (clásico):\", index_classical)\n",
        "print(\"Tiempo de búsqueda clásica:\", time_classical, \"segundos\")\n"
      ],
      "metadata": {
        "colab": {
          "base_uri": "https://localhost:8080/"
        },
        "id": "KqrPW_psFJyC",
        "outputId": "7554bb66-608e-4761-a801-fbb9f28f5e35"
      },
      "execution_count": 2,
      "outputs": [
        {
          "output_type": "stream",
          "name": "stdout",
          "text": [
            "Índice encontrado (clásico): 87099\n",
            "Tiempo de búsqueda clásica: 0.008043766021728516 segundos\n"
          ]
        }
      ]
    },
    {
      "cell_type": "code",
      "source": [
        "# Búsqueda cuántica (simulada)\n",
        "result_quantum, time_quantum = quantum_search(hash_list, target_index)\n",
        "print(\"Resultado de la búsqueda cuántica:\", result_quantum)\n",
        "print(\"Tiempo de búsqueda cuántica:\", time_quantum, \"segundos\")"
      ],
      "metadata": {
        "colab": {
          "base_uri": "https://localhost:8080/"
        },
        "id": "EcVdYiFEFMdp",
        "outputId": "3635d956-6ed6-4a9b-8918-dff99d785876"
      },
      "execution_count": 3,
      "outputs": [
        {
          "output_type": "stream",
          "name": "stdout",
          "text": [
            "Resultado de la búsqueda cuántica: {   'assignment': '100',\n",
            "    'circuit_results': [   {   '000': 128,\n",
            "                               '001': 115,\n",
            "                               '010': 123,\n",
            "                               '011': 113,\n",
            "                               '100': 142,\n",
            "                               '101': 134,\n",
            "                               '110': 130,\n",
            "                               '111': 139},\n",
            "                           {   '000': 132,\n",
            "                               '001': 129,\n",
            "                               '010': 133,\n",
            "                               '011': 121,\n",
            "                               '100': 129,\n",
            "                               '101': 129,\n",
            "                               '110': 130,\n",
            "                               '111': 121},\n",
            "                           {   '000': 131,\n",
            "                               '001': 124,\n",
            "                               '010': 122,\n",
            "                               '011': 144,\n",
            "                               '100': 121,\n",
            "                               '101': 128,\n",
            "                               '110': 121,\n",
            "                               '111': 133},\n",
            "                           {   '000': 110,\n",
            "                               '001': 126,\n",
            "                               '010': 147,\n",
            "                               '011': 118,\n",
            "                               '100': 130,\n",
            "                               '101': 115,\n",
            "                               '110': 142,\n",
            "                               '111': 136},\n",
            "                           {   '000': 127,\n",
            "                               '001': 123,\n",
            "                               '010': 128,\n",
            "                               '011': 138,\n",
            "                               '100': 136,\n",
            "                               '101': 115,\n",
            "                               '110': 145,\n",
            "                               '111': 112},\n",
            "                           {   '000': 141,\n",
            "                               '001': 132,\n",
            "                               '010': 127,\n",
            "                               '011': 132,\n",
            "                               '100': 128,\n",
            "                               '101': 125,\n",
            "                               '110': 122,\n",
            "                               '111': 117},\n",
            "                           {   '000': 135,\n",
            "                               '001': 133,\n",
            "                               '010': 135,\n",
            "                               '011': 115,\n",
            "                               '100': 138,\n",
            "                               '101': 125,\n",
            "                               '110': 114,\n",
            "                               '111': 129}],\n",
            "    'iterations': [1, 1, 1, 2, 2, 2, 3],\n",
            "    'max_probability': 0.134765625,\n",
            "    'oracle_evaluation': False,\n",
            "    'top_measurement': '100'}\n",
            "Tiempo de búsqueda cuántica: 0.578010082244873 segundos\n"
          ]
        },
        {
          "output_type": "stream",
          "name": "stderr",
          "text": [
            "<ipython-input-1-eea2f924f31d>:44: DeprecationWarning: The class ``qiskit.utils.quantum_instance.QuantumInstance`` is deprecated as of qiskit-terra 0.24.0. It will be removed no earlier than 3 months after the release date. For code migration guidelines, visit https://qisk.it/qi_migration.\n",
            "  quantum_instance = QuantumInstance(backend)\n",
            "<ipython-input-1-eea2f924f31d>:45: DeprecationWarning: ``qiskit.algorithms.amplitude_amplifiers.grover.Grover.__init__()``'s argument ``quantum_instance`` is deprecated as of qiskit-terra 0.24.0. It will be removed no earlier than 3 months after the release date. Instead, use the ``sampler`` argument. See https://qisk.it/algo_migration for a migration guide.\n",
            "  grover = Grover(quantum_instance=quantum_instance)\n"
          ]
        }
      ]
    }
  ]
}