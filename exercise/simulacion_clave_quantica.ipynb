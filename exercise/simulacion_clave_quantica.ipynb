{
  "nbformat": 4,
  "nbformat_minor": 0,
  "metadata": {
    "colab": {
      "provenance": [],
      "authorship_tag": "ABX9TyOqPjtcb0F1kICpiA1ZZC42"
    },
    "kernelspec": {
      "name": "python3",
      "display_name": "Python 3"
    },
    "language_info": {
      "name": "python"
    }
  },
  "cells": [
    {
      "cell_type": "code",
      "execution_count": null,
      "metadata": {
        "id": "U_jHjPhBY3Ye"
      },
      "outputs": [],
      "source": [
        "!pip install qiskit\n",
        "!pip install qiskit-aer"
      ]
    },
    {
      "cell_type": "code",
      "source": [
        "from qiskit import QuantumCircuit, execute, Aer\n",
        "import random\n",
        "\n",
        "def generar_bit_cuántico():\n",
        "    circuito = QuantumCircuit(1, 1)\n",
        "    if random.random() < 0.5:\n",
        "        # Aplicar la puerta Hadamard para superposición\n",
        "        circuito.h(0)\n",
        "\n",
        "    # Medir el qubit, colapsando su estado a 0 o 1\n",
        "    circuito.measure(0, 0)\n",
        "    backend = Aer.get_backend('qasm_simulator')\n",
        "\n",
        "    # Ejecutar el circuito en el simulador cuántico y obtiene el resultado.\n",
        "    # 'shots=1' significa que el circuito se ejecuta una sola vez, produciendo un único resultado (bit) por ejecución.\n",
        "    resultado = execute(circuito, backend, shots=1).result()\n",
        "    bit = int(list(resultado.get_counts(circuito).keys())[0])\n",
        "    return bit\n",
        "\n",
        "# Generar una clave cuántica simulada\n",
        "longitud_clave = 8\n",
        "clave_cuántica = [generar_bit_cuántico() for _ in range(longitud_clave)]\n",
        "print(\"Clave cuántica simulada:\", clave_cuántica)\n"
      ],
      "metadata": {
        "colab": {
          "base_uri": "https://localhost:8080/"
        },
        "id": "NUIzlrWXaA9e",
        "outputId": "3bedb378-7990-4709-a02f-06f707b866f9"
      },
      "execution_count": null,
      "outputs": [
        {
          "output_type": "stream",
          "name": "stdout",
          "text": [
            "Clave cuántica simulada: [0, 0, 1, 1, 0, 0, 0, 0]\n"
          ]
        }
      ]
    }
  ]
}