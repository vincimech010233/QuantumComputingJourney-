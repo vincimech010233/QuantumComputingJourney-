{
  "nbformat": 4,
  "nbformat_minor": 0,
  "metadata": {
    "colab": {
      "provenance": [],
      "authorship_tag": "ABX9TyM77H3ZJfSjf4RcPfaj2mi+"
    },
    "kernelspec": {
      "name": "python3",
      "display_name": "Python 3"
    },
    "language_info": {
      "name": "python"
    }
  },
  "cells": [
    {
      "cell_type": "code",
      "execution_count": null,
      "metadata": {
        "id": "x80-r4tNMFLZ"
      },
      "outputs": [],
      "source": [
        "!pip install pennylane"
      ]
    },
    {
      "cell_type": "code",
      "source": [
        "text_data = [\"hello\", \"world\"]"
      ],
      "metadata": {
        "id": "92mZBwS3Ma5F"
      },
      "execution_count": null,
      "outputs": []
    },
    {
      "cell_type": "code",
      "source": [
        "import pennylane as qml\n",
        "from pennylane import numpy as np\n",
        "\n",
        "# Convert text into a simple numerical format\n",
        "# This is an extreme simplification of the actual text embedding process\n",
        "def text_to_numbers(text):\n",
        "    return [ord(c) for c in text]\n",
        "\n",
        "# Prepare the data\n",
        "numerical_data = [text_to_numbers(text) for text in text_data]\n",
        "\n",
        "# Define a quantum device\n",
        "dev = qml.device('default.qubit', wires=2)\n",
        "\n",
        "# Define a quantum circuit that encodes data\n",
        "@qml.qnode(dev)\n",
        "def text_embedding_circuit(data):\n",
        "    for i in range(2):\n",
        "        qml.RY(np.pi * data[i] / 256, wires=i)\n",
        "    return [qml.expval(qml.PauliZ(i)) for i in range(2)]\n",
        "\n",
        "# Encode text data into the quantum circuit\n",
        "quantum_encoded_text = [text_embedding_circuit(data) for data in numerical_data]\n",
        "print(quantum_encoded_text)\n"
      ],
      "metadata": {
        "colab": {
          "base_uri": "https://localhost:8080/"
        },
        "id": "O9huI_E5MgBi",
        "outputId": "66c468cd-a8dd-45c7-e531-68fbcbba2d9d"
      },
      "execution_count": null,
      "outputs": [
        {
          "output_type": "stream",
          "name": "stdout",
          "text": [
            "[[tensor(0.29028468, requires_grad=True), tensor(0.32531029, requires_grad=True)], [tensor(0.11022221, requires_grad=True), tensor(0.20711138, requires_grad=True)]]\n"
          ]
        }
      ]
    },
    {
      "cell_type": "code",
      "source": [],
      "metadata": {
        "id": "QDkM5H5wMlFf"
      },
      "execution_count": null,
      "outputs": []
    }
  ]
}